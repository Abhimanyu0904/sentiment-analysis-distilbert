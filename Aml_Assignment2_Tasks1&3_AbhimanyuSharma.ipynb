{
  "cells": [
    {
      "cell_type": "code",
      "source": [
        "import numpy as np\n",
        "import matplotlib.pyplot as plt\n",
        "import seaborn as sns\n",
        "import pandas as pd\n",
        "from sklearn.feature_extraction import _stop_words\n",
        "from sklearn.feature_extraction.text import CountVectorizer, TfidfVectorizer"
      ],
      "metadata": {
        "id": "qltQhRbOGf7n",
        "colab": {
          "base_uri": "https://localhost:8080/"
        },
        "outputId": "d5ecb1a7-d6db-449a-cbfd-a4053f736b31"
      },
      "execution_count": 124,
      "outputs": [
        {
          "output_type": "stream",
          "name": "stderr",
          "text": [
            "/usr/local/lib/python3.9/dist-packages/ipykernel/ipkernel.py:283: DeprecationWarning: `should_run_async` will not call `transform_cell` automatically in the future. Please pass the result to `transformed_cell` argument and any exception that happen during thetransform in `preprocessing_exc_tuple` in IPython 7.17 and above.\n",
            "  and should_run_async(code)\n"
          ]
        }
      ]
    },
    {
      "cell_type": "code",
      "source": [
        "from google.colab import drive\n",
        "drive.mount('/content/drive')"
      ],
      "metadata": {
        "colab": {
          "base_uri": "https://localhost:8080/"
        },
        "id": "K5Y8E08sQsbc",
        "outputId": "888e5176-64f6-49cf-83c1-732f6a99adb0"
      },
      "execution_count": 125,
      "outputs": [
        {
          "output_type": "stream",
          "name": "stderr",
          "text": [
            "/usr/local/lib/python3.9/dist-packages/ipykernel/ipkernel.py:283: DeprecationWarning: `should_run_async` will not call `transform_cell` automatically in the future. Please pass the result to `transformed_cell` argument and any exception that happen during thetransform in `preprocessing_exc_tuple` in IPython 7.17 and above.\n",
            "  and should_run_async(code)\n"
          ]
        },
        {
          "output_type": "stream",
          "name": "stdout",
          "text": [
            "Drive already mounted at /content/drive; to attempt to forcibly remount, call drive.mount(\"/content/drive\", force_remount=True).\n"
          ]
        }
      ]
    },
    {
      "cell_type": "code",
      "source": [
        "new_df = pd.read_csv(\"/content/drive/MyDrive/datasets/aml/Dataset-SA.csv\")"
      ],
      "metadata": {
        "id": "EuCM3-fIGf94",
        "colab": {
          "base_uri": "https://localhost:8080/"
        },
        "outputId": "67194576-ec5e-4999-812e-be4d6f34356d"
      },
      "execution_count": 126,
      "outputs": [
        {
          "output_type": "stream",
          "name": "stderr",
          "text": [
            "/usr/local/lib/python3.9/dist-packages/ipykernel/ipkernel.py:283: DeprecationWarning: `should_run_async` will not call `transform_cell` automatically in the future. Please pass the result to `transformed_cell` argument and any exception that happen during thetransform in `preprocessing_exc_tuple` in IPython 7.17 and above.\n",
            "  and should_run_async(code)\n"
          ]
        }
      ]
    },
    {
      "cell_type": "code",
      "source": [
        "print(f\"Size of the dataset is {len(new_df)}\")"
      ],
      "metadata": {
        "colab": {
          "base_uri": "https://localhost:8080/"
        },
        "id": "Z5OnHxi9iQcl",
        "outputId": "be07db79-4c33-45dc-e0ea-bf5c6f528e84"
      },
      "execution_count": 127,
      "outputs": [
        {
          "output_type": "stream",
          "name": "stdout",
          "text": [
            "Size of the dataset is 205052\n"
          ]
        },
        {
          "output_type": "stream",
          "name": "stderr",
          "text": [
            "/usr/local/lib/python3.9/dist-packages/ipykernel/ipkernel.py:283: DeprecationWarning: `should_run_async` will not call `transform_cell` automatically in the future. Please pass the result to `transformed_cell` argument and any exception that happen during thetransform in `preprocessing_exc_tuple` in IPython 7.17 and above.\n",
            "  and should_run_async(code)\n"
          ]
        }
      ]
    },
    {
      "cell_type": "code",
      "source": [
        "print(f\"Number of Unique Products are {len(new_df.product_name.unique())}\")"
      ],
      "metadata": {
        "colab": {
          "base_uri": "https://localhost:8080/"
        },
        "id": "LQ7OSWqHifsC",
        "outputId": "60689c33-79d3-4376-9aba-48b17a39550d"
      },
      "execution_count": 128,
      "outputs": [
        {
          "output_type": "stream",
          "name": "stdout",
          "text": [
            "Number of Unique Products are 958\n"
          ]
        },
        {
          "output_type": "stream",
          "name": "stderr",
          "text": [
            "/usr/local/lib/python3.9/dist-packages/ipykernel/ipkernel.py:283: DeprecationWarning: `should_run_async` will not call `transform_cell` automatically in the future. Please pass the result to `transformed_cell` argument and any exception that happen during thetransform in `preprocessing_exc_tuple` in IPython 7.17 and above.\n",
            "  and should_run_async(code)\n"
          ]
        }
      ]
    },
    {
      "cell_type": "code",
      "source": [
        "new_df.info()"
      ],
      "metadata": {
        "colab": {
          "base_uri": "https://localhost:8080/"
        },
        "id": "0csfKUXpjJ8q",
        "outputId": "3f02ea6f-0f30-4595-b3e1-e476cb926065"
      },
      "execution_count": 129,
      "outputs": [
        {
          "output_type": "stream",
          "name": "stderr",
          "text": [
            "/usr/local/lib/python3.9/dist-packages/ipykernel/ipkernel.py:283: DeprecationWarning: `should_run_async` will not call `transform_cell` automatically in the future. Please pass the result to `transformed_cell` argument and any exception that happen during thetransform in `preprocessing_exc_tuple` in IPython 7.17 and above.\n",
            "  and should_run_async(code)\n"
          ]
        },
        {
          "output_type": "stream",
          "name": "stdout",
          "text": [
            "<class 'pandas.core.frame.DataFrame'>\n",
            "RangeIndex: 205052 entries, 0 to 205051\n",
            "Data columns (total 6 columns):\n",
            " #   Column         Non-Null Count   Dtype \n",
            "---  ------         --------------   ----- \n",
            " 0   product_name   205052 non-null  object\n",
            " 1   product_price  205052 non-null  object\n",
            " 2   Rate           205052 non-null  object\n",
            " 3   Review         180388 non-null  object\n",
            " 4   Summary        205041 non-null  object\n",
            " 5   Sentiment      205052 non-null  object\n",
            "dtypes: object(6)\n",
            "memory usage: 9.4+ MB\n"
          ]
        }
      ]
    },
    {
      "cell_type": "code",
      "source": [
        "new_df.describe()"
      ],
      "metadata": {
        "colab": {
          "base_uri": "https://localhost:8080/",
          "height": 224
        },
        "id": "Yp6PuddhjMbo",
        "outputId": "c2b77f18-9e17-4651-ed1a-f4993b0e0a1e"
      },
      "execution_count": 130,
      "outputs": [
        {
          "output_type": "stream",
          "name": "stderr",
          "text": [
            "/usr/local/lib/python3.9/dist-packages/ipykernel/ipkernel.py:283: DeprecationWarning: `should_run_async` will not call `transform_cell` automatically in the future. Please pass the result to `transformed_cell` argument and any exception that happen during thetransform in `preprocessing_exc_tuple` in IPython 7.17 and above.\n",
            "  and should_run_async(code)\n"
          ]
        },
        {
          "output_type": "execute_result",
          "data": {
            "text/plain": [
              "                                             product_name product_price  \\\n",
              "count                                              205052        205052   \n",
              "unique                                                958           525   \n",
              "top     cello Pack of 18 Opalware Cello Dazzle Lush Fi...          1299   \n",
              "freq                                                 6005          9150   \n",
              "\n",
              "          Rate     Review Summary Sentiment  \n",
              "count   205052     180388  205041    205052  \n",
              "unique       8       1324   92923         3  \n",
              "top          5  wonderful    good  positive  \n",
              "freq    118765       9016   17430    166581  "
            ],
            "text/html": [
              "\n",
              "  <div id=\"df-3b7a6d3f-9b9a-40ef-9432-641984297ce8\">\n",
              "    <div class=\"colab-df-container\">\n",
              "      <div>\n",
              "<style scoped>\n",
              "    .dataframe tbody tr th:only-of-type {\n",
              "        vertical-align: middle;\n",
              "    }\n",
              "\n",
              "    .dataframe tbody tr th {\n",
              "        vertical-align: top;\n",
              "    }\n",
              "\n",
              "    .dataframe thead th {\n",
              "        text-align: right;\n",
              "    }\n",
              "</style>\n",
              "<table border=\"1\" class=\"dataframe\">\n",
              "  <thead>\n",
              "    <tr style=\"text-align: right;\">\n",
              "      <th></th>\n",
              "      <th>product_name</th>\n",
              "      <th>product_price</th>\n",
              "      <th>Rate</th>\n",
              "      <th>Review</th>\n",
              "      <th>Summary</th>\n",
              "      <th>Sentiment</th>\n",
              "    </tr>\n",
              "  </thead>\n",
              "  <tbody>\n",
              "    <tr>\n",
              "      <th>count</th>\n",
              "      <td>205052</td>\n",
              "      <td>205052</td>\n",
              "      <td>205052</td>\n",
              "      <td>180388</td>\n",
              "      <td>205041</td>\n",
              "      <td>205052</td>\n",
              "    </tr>\n",
              "    <tr>\n",
              "      <th>unique</th>\n",
              "      <td>958</td>\n",
              "      <td>525</td>\n",
              "      <td>8</td>\n",
              "      <td>1324</td>\n",
              "      <td>92923</td>\n",
              "      <td>3</td>\n",
              "    </tr>\n",
              "    <tr>\n",
              "      <th>top</th>\n",
              "      <td>cello Pack of 18 Opalware Cello Dazzle Lush Fi...</td>\n",
              "      <td>1299</td>\n",
              "      <td>5</td>\n",
              "      <td>wonderful</td>\n",
              "      <td>good</td>\n",
              "      <td>positive</td>\n",
              "    </tr>\n",
              "    <tr>\n",
              "      <th>freq</th>\n",
              "      <td>6005</td>\n",
              "      <td>9150</td>\n",
              "      <td>118765</td>\n",
              "      <td>9016</td>\n",
              "      <td>17430</td>\n",
              "      <td>166581</td>\n",
              "    </tr>\n",
              "  </tbody>\n",
              "</table>\n",
              "</div>\n",
              "      <button class=\"colab-df-convert\" onclick=\"convertToInteractive('df-3b7a6d3f-9b9a-40ef-9432-641984297ce8')\"\n",
              "              title=\"Convert this dataframe to an interactive table.\"\n",
              "              style=\"display:none;\">\n",
              "        \n",
              "  <svg xmlns=\"http://www.w3.org/2000/svg\" height=\"24px\"viewBox=\"0 0 24 24\"\n",
              "       width=\"24px\">\n",
              "    <path d=\"M0 0h24v24H0V0z\" fill=\"none\"/>\n",
              "    <path d=\"M18.56 5.44l.94 2.06.94-2.06 2.06-.94-2.06-.94-.94-2.06-.94 2.06-2.06.94zm-11 1L8.5 8.5l.94-2.06 2.06-.94-2.06-.94L8.5 2.5l-.94 2.06-2.06.94zm10 10l.94 2.06.94-2.06 2.06-.94-2.06-.94-.94-2.06-.94 2.06-2.06.94z\"/><path d=\"M17.41 7.96l-1.37-1.37c-.4-.4-.92-.59-1.43-.59-.52 0-1.04.2-1.43.59L10.3 9.45l-7.72 7.72c-.78.78-.78 2.05 0 2.83L4 21.41c.39.39.9.59 1.41.59.51 0 1.02-.2 1.41-.59l7.78-7.78 2.81-2.81c.8-.78.8-2.07 0-2.86zM5.41 20L4 18.59l7.72-7.72 1.47 1.35L5.41 20z\"/>\n",
              "  </svg>\n",
              "      </button>\n",
              "      \n",
              "  <style>\n",
              "    .colab-df-container {\n",
              "      display:flex;\n",
              "      flex-wrap:wrap;\n",
              "      gap: 12px;\n",
              "    }\n",
              "\n",
              "    .colab-df-convert {\n",
              "      background-color: #E8F0FE;\n",
              "      border: none;\n",
              "      border-radius: 50%;\n",
              "      cursor: pointer;\n",
              "      display: none;\n",
              "      fill: #1967D2;\n",
              "      height: 32px;\n",
              "      padding: 0 0 0 0;\n",
              "      width: 32px;\n",
              "    }\n",
              "\n",
              "    .colab-df-convert:hover {\n",
              "      background-color: #E2EBFA;\n",
              "      box-shadow: 0px 1px 2px rgba(60, 64, 67, 0.3), 0px 1px 3px 1px rgba(60, 64, 67, 0.15);\n",
              "      fill: #174EA6;\n",
              "    }\n",
              "\n",
              "    [theme=dark] .colab-df-convert {\n",
              "      background-color: #3B4455;\n",
              "      fill: #D2E3FC;\n",
              "    }\n",
              "\n",
              "    [theme=dark] .colab-df-convert:hover {\n",
              "      background-color: #434B5C;\n",
              "      box-shadow: 0px 1px 3px 1px rgba(0, 0, 0, 0.15);\n",
              "      filter: drop-shadow(0px 1px 2px rgba(0, 0, 0, 0.3));\n",
              "      fill: #FFFFFF;\n",
              "    }\n",
              "  </style>\n",
              "\n",
              "      <script>\n",
              "        const buttonEl =\n",
              "          document.querySelector('#df-3b7a6d3f-9b9a-40ef-9432-641984297ce8 button.colab-df-convert');\n",
              "        buttonEl.style.display =\n",
              "          google.colab.kernel.accessAllowed ? 'block' : 'none';\n",
              "\n",
              "        async function convertToInteractive(key) {\n",
              "          const element = document.querySelector('#df-3b7a6d3f-9b9a-40ef-9432-641984297ce8');\n",
              "          const dataTable =\n",
              "            await google.colab.kernel.invokeFunction('convertToInteractive',\n",
              "                                                     [key], {});\n",
              "          if (!dataTable) return;\n",
              "\n",
              "          const docLinkHtml = 'Like what you see? Visit the ' +\n",
              "            '<a target=\"_blank\" href=https://colab.research.google.com/notebooks/data_table.ipynb>data table notebook</a>'\n",
              "            + ' to learn more about interactive tables.';\n",
              "          element.innerHTML = '';\n",
              "          dataTable['output_type'] = 'display_data';\n",
              "          await google.colab.output.renderOutput(dataTable, element);\n",
              "          const docLink = document.createElement('div');\n",
              "          docLink.innerHTML = docLinkHtml;\n",
              "          element.appendChild(docLink);\n",
              "        }\n",
              "      </script>\n",
              "    </div>\n",
              "  </div>\n",
              "  "
            ]
          },
          "metadata": {},
          "execution_count": 130
        }
      ]
    },
    {
      "cell_type": "code",
      "source": [
        "import matplotlib.pyplot as plt\n",
        "import seaborn as sns\n",
        "\n"
      ],
      "metadata": {
        "colab": {
          "base_uri": "https://localhost:8080/"
        },
        "id": "gJja0eJmi7ox",
        "outputId": "61f85f4a-6b42-4ba7-e656-e6efdb9c6a1a"
      },
      "execution_count": 131,
      "outputs": [
        {
          "output_type": "stream",
          "name": "stderr",
          "text": [
            "/usr/local/lib/python3.9/dist-packages/ipykernel/ipkernel.py:283: DeprecationWarning: `should_run_async` will not call `transform_cell` automatically in the future. Please pass the result to `transformed_cell` argument and any exception that happen during thetransform in `preprocessing_exc_tuple` in IPython 7.17 and above.\n",
            "  and should_run_async(code)\n"
          ]
        }
      ]
    },
    {
      "cell_type": "code",
      "source": [
        "sns.countplot(x='Sentiment',data=new_df)\n",
        "plt.title(\"Class Distribution\")\n",
        "\n",
        "print(f\"\"\"\n",
        "Positive Sentiments: {round(new_df.Sentiment.value_counts()['positive']*100/new_df.Sentiment.value_counts().sum(), 2)}%\n",
        "Negative Sentiments: {round(new_df.Sentiment.value_counts()['negative']*100/new_df.Sentiment.value_counts().sum(), 2)}%\n",
        "Neutral Sentiments: {round(new_df.Sentiment.value_counts()['neutral']*100/new_df.Sentiment.value_counts().sum(), 2)}%\n",
        "\n",
        "\"\"\")"
      ],
      "metadata": {
        "colab": {
          "base_uri": "https://localhost:8080/",
          "height": 625
        },
        "id": "sjQJ5at5jiBe",
        "outputId": "d8f271de-f9a4-459f-978b-6c9232044fda"
      },
      "execution_count": 132,
      "outputs": [
        {
          "output_type": "stream",
          "name": "stderr",
          "text": [
            "/usr/local/lib/python3.9/dist-packages/ipykernel/ipkernel.py:283: DeprecationWarning: `should_run_async` will not call `transform_cell` automatically in the future. Please pass the result to `transformed_cell` argument and any exception that happen during thetransform in `preprocessing_exc_tuple` in IPython 7.17 and above.\n",
            "  and should_run_async(code)\n"
          ]
        },
        {
          "output_type": "stream",
          "name": "stdout",
          "text": [
            "\n",
            "Positive Sentiments: 81.24%\n",
            "Negative Sentiments: 13.77%\n",
            "Neutral Sentiments: 4.99%\n",
            "\n",
            "\n"
          ]
        },
        {
          "output_type": "display_data",
          "data": {
            "text/plain": [
              "<Figure size 640x480 with 1 Axes>"
            ],
            "image/png": "[encoded data removed]"
          },
          "metadata": {}
        }
      ]
    },
    {
      "cell_type": "code",
      "source": [
        "sns.countplot(x='Rate',data=new_df)\n",
        "plt.title(\"Product Rating Distribution\")"
      ],
      "metadata": {
        "colab": {
          "base_uri": "https://localhost:8080/",
          "height": 593
        },
        "id": "vXBSbsopmWug",
        "outputId": "d0c3f132-227e-4c50-aa51-d37ad880c0a3"
      },
      "execution_count": 133,
      "outputs": [
        {
          "output_type": "stream",
          "name": "stderr",
          "text": [
            "/usr/local/lib/python3.9/dist-packages/ipykernel/ipkernel.py:283: DeprecationWarning: `should_run_async` will not call `transform_cell` automatically in the future. Please pass the result to `transformed_cell` argument and any exception that happen during thetransform in `preprocessing_exc_tuple` in IPython 7.17 and above.\n",
            "  and should_run_async(code)\n"
          ]
        },
        {
          "output_type": "execute_result",
          "data": {
            "text/plain": [
              "Text(0.5, 1.0, 'Product Rating Distribution')"
            ]
          },
          "metadata": {},
          "execution_count": 133
        },
        {
          "output_type": "stream",
          "name": "stderr",
          "text": [
            "/usr/local/lib/python3.9/dist-packages/IPython/core/events.py:89: UserWarning: Glyph 131 (\\x83) missing from current font.\n",
            "  func(*args, **kwargs)\n",
            "/usr/local/lib/python3.9/dist-packages/IPython/core/pylabtools.py:151: UserWarning: Glyph 131 (\\x83) missing from current font.\n",
            "  fig.canvas.print_figure(bytes_io, **kw)\n"
          ]
        },
        {
          "output_type": "display_data",
          "data": {
            "text/plain": [
              "<Figure size 640x480 with 1 Axes>"
            ],
            "image/png": "[encoded data removed]"
          },
          "metadata": {}
        }
      ]
    },
    {
      "cell_type": "code",
      "source": [
        "new_df.isna().sum()"
      ],
      "metadata": {
        "colab": {
          "base_uri": "https://localhost:8080/"
        },
        "id": "mZPdMjxolcF7",
        "outputId": "266bdcaa-7127-48a7-cd1b-2c78db78bf9d"
      },
      "execution_count": 134,
      "outputs": [
        {
          "output_type": "stream",
          "name": "stderr",
          "text": [
            "/usr/local/lib/python3.9/dist-packages/ipykernel/ipkernel.py:283: DeprecationWarning: `should_run_async` will not call `transform_cell` automatically in the future. Please pass the result to `transformed_cell` argument and any exception that happen during thetransform in `preprocessing_exc_tuple` in IPython 7.17 and above.\n",
            "  and should_run_async(code)\n"
          ]
        },
        {
          "output_type": "execute_result",
          "data": {
            "text/plain": [
              "product_name         0\n",
              "product_price        0\n",
              "Rate                 0\n",
              "Review           24664\n",
              "Summary             11\n",
              "Sentiment            0\n",
              "dtype: int64"
            ]
          },
          "metadata": {},
          "execution_count": 134
        }
      ]
    },
    {
      "cell_type": "code",
      "source": [
        "print(\"Summary has 11 Null values and Review has 24664\")"
      ],
      "metadata": {
        "colab": {
          "base_uri": "https://localhost:8080/"
        },
        "id": "JXpIJ38fl_FJ",
        "outputId": "2555106d-a29f-4130-fd1e-2e4df529bcd4"
      },
      "execution_count": 135,
      "outputs": [
        {
          "output_type": "stream",
          "name": "stdout",
          "text": [
            "Summary has 11 Null values and Review has 24664\n"
          ]
        },
        {
          "output_type": "stream",
          "name": "stderr",
          "text": [
            "/usr/local/lib/python3.9/dist-packages/ipykernel/ipkernel.py:283: DeprecationWarning: `should_run_async` will not call `transform_cell` automatically in the future. Please pass the result to `transformed_cell` argument and any exception that happen during thetransform in `preprocessing_exc_tuple` in IPython 7.17 and above.\n",
            "  and should_run_async(code)\n"
          ]
        }
      ]
    },
    {
      "cell_type": "code",
      "source": [
        "new_df=new_df[~ new_df.Summary.isna()]"
      ],
      "metadata": {
        "id": "Hap3yVlsJQOE",
        "colab": {
          "base_uri": "https://localhost:8080/"
        },
        "outputId": "6ecc2690-8c22-4559-d5b8-bb78554eab1e"
      },
      "execution_count": 136,
      "outputs": [
        {
          "output_type": "stream",
          "name": "stderr",
          "text": [
            "/usr/local/lib/python3.9/dist-packages/ipykernel/ipkernel.py:283: DeprecationWarning: `should_run_async` will not call `transform_cell` automatically in the future. Please pass the result to `transformed_cell` argument and any exception that happen during thetransform in `preprocessing_exc_tuple` in IPython 7.17 and above.\n",
            "  and should_run_async(code)\n"
          ]
        }
      ]
    },
    {
      "cell_type": "code",
      "source": [
        "import nltk\n",
        "nltk.download('stopwords')"
      ],
      "metadata": {
        "colab": {
          "base_uri": "https://localhost:8080/"
        },
        "id": "v0n6UL_8Q57a",
        "outputId": "200ef174-6d7b-460a-cebd-7bc1742d6f7a"
      },
      "execution_count": 137,
      "outputs": [
        {
          "output_type": "stream",
          "name": "stderr",
          "text": [
            "/usr/local/lib/python3.9/dist-packages/ipykernel/ipkernel.py:283: DeprecationWarning: `should_run_async` will not call `transform_cell` automatically in the future. Please pass the result to `transformed_cell` argument and any exception that happen during thetransform in `preprocessing_exc_tuple` in IPython 7.17 and above.\n",
            "  and should_run_async(code)\n",
            "[nltk_data] Downloading package stopwords to /root/nltk_data...\n",
            "[nltk_data]   Package stopwords is already up-to-date!\n"
          ]
        },
        {
          "output_type": "execute_result",
          "data": {
            "text/plain": [
              "True"
            ]
          },
          "metadata": {},
          "execution_count": 137
        }
      ]
    },
    {
      "cell_type": "code",
      "source": [
        "from nltk.corpus import stopwords\n",
        "stop_words = stopwords.words('english')"
      ],
      "metadata": {
        "id": "wcaVtTnzQ9tn",
        "colab": {
          "base_uri": "https://localhost:8080/"
        },
        "outputId": "5597cb64-a965-498f-975b-a5a13c97857b"
      },
      "execution_count": 138,
      "outputs": [
        {
          "output_type": "stream",
          "name": "stderr",
          "text": [
            "/usr/local/lib/python3.9/dist-packages/ipykernel/ipkernel.py:283: DeprecationWarning: `should_run_async` will not call `transform_cell` automatically in the future. Please pass the result to `transformed_cell` argument and any exception that happen during thetransform in `preprocessing_exc_tuple` in IPython 7.17 and above.\n",
            "  and should_run_async(code)\n"
          ]
        }
      ]
    },
    {
      "cell_type": "code",
      "source": [
        "summaries = new_df['Summary'].to_list()"
      ],
      "metadata": {
        "id": "4cjgTTn0R-XY",
        "colab": {
          "base_uri": "https://localhost:8080/"
        },
        "outputId": "3d3855ef-f243-414f-fea6-7df957060965"
      },
      "execution_count": 139,
      "outputs": [
        {
          "output_type": "stream",
          "name": "stderr",
          "text": [
            "/usr/local/lib/python3.9/dist-packages/ipykernel/ipkernel.py:283: DeprecationWarning: `should_run_async` will not call `transform_cell` automatically in the future. Please pass the result to `transformed_cell` argument and any exception that happen during thetransform in `preprocessing_exc_tuple` in IPython 7.17 and above.\n",
            "  and should_run_async(code)\n"
          ]
        }
      ]
    },
    {
      "cell_type": "code",
      "source": [
        "summaries[1]"
      ],
      "metadata": {
        "colab": {
          "base_uri": "https://localhost:8080/",
          "height": 91
        },
        "id": "kHm0DUbCTsbK",
        "outputId": "3d21923d-82ee-4cc8-8732-9486abb46ed5"
      },
      "execution_count": 140,
      "outputs": [
        {
          "output_type": "stream",
          "name": "stderr",
          "text": [
            "/usr/local/lib/python3.9/dist-packages/ipykernel/ipkernel.py:283: DeprecationWarning: `should_run_async` will not call `transform_cell` automatically in the future. Please pass the result to `transformed_cell` argument and any exception that happen during thetransform in `preprocessing_exc_tuple` in IPython 7.17 and above.\n",
            "  and should_run_async(code)\n"
          ]
        },
        {
          "output_type": "execute_result",
          "data": {
            "text/plain": [
              "'best budget 2 fit cooler nice cooling'"
            ],
            "application/vnd.google.colaboratory.intrinsic+json": {
              "type": "string"
            }
          },
          "metadata": {},
          "execution_count": 140
        }
      ]
    },
    {
      "cell_type": "code",
      "source": [
        "#Removing Stopwords\n",
        "summaries_new = []\n",
        "\n",
        "for summary in summaries:\n",
        "  split_summary = summary.split()\n",
        "  new_summary = ''\n",
        "  for i in split_summary:\n",
        "    if i not in stop_words:\n",
        "      new_summary = new_summary + i + \" \"\n",
        "  # print(new_summary)\n",
        "  summaries_new.append(new_summary)"
      ],
      "metadata": {
        "id": "3PvSOc-HTvyl",
        "colab": {
          "base_uri": "https://localhost:8080/"
        },
        "outputId": "d557d705-ab3b-401a-e4ba-b8f9ff590a1b"
      },
      "execution_count": 141,
      "outputs": [
        {
          "output_type": "stream",
          "name": "stderr",
          "text": [
            "/usr/local/lib/python3.9/dist-packages/ipykernel/ipkernel.py:283: DeprecationWarning: `should_run_async` will not call `transform_cell` automatically in the future. Please pass the result to `transformed_cell` argument and any exception that happen during thetransform in `preprocessing_exc_tuple` in IPython 7.17 and above.\n",
            "  and should_run_async(code)\n"
          ]
        }
      ]
    },
    {
      "cell_type": "code",
      "source": [
        "len(summaries_new)"
      ],
      "metadata": {
        "colab": {
          "base_uri": "https://localhost:8080/"
        },
        "id": "p48AJHZmV0TS",
        "outputId": "272b331d-56c2-4c71-f9f1-40cd2c49bd53"
      },
      "execution_count": 142,
      "outputs": [
        {
          "output_type": "stream",
          "name": "stderr",
          "text": [
            "/usr/local/lib/python3.9/dist-packages/ipykernel/ipkernel.py:283: DeprecationWarning: `should_run_async` will not call `transform_cell` automatically in the future. Please pass the result to `transformed_cell` argument and any exception that happen during thetransform in `preprocessing_exc_tuple` in IPython 7.17 and above.\n",
            "  and should_run_async(code)\n"
          ]
        },
        {
          "output_type": "execute_result",
          "data": {
            "text/plain": [
              "205041"
            ]
          },
          "metadata": {},
          "execution_count": 142
        }
      ]
    },
    {
      "cell_type": "code",
      "source": [
        "!python -m spacy download en_core_web_md "
      ],
      "metadata": {
        "colab": {
          "base_uri": "https://localhost:8080/"
        },
        "id": "95tiBLK9WjZy",
        "outputId": "d72e6be8-ff47-49b7-ee8c-fe6350603cea"
      },
      "execution_count": 143,
      "outputs": [
        {
          "output_type": "stream",
          "name": "stderr",
          "text": [
            "/usr/local/lib/python3.9/dist-packages/ipykernel/ipkernel.py:283: DeprecationWarning: `should_run_async` will not call `transform_cell` automatically in the future. Please pass the result to `transformed_cell` argument and any exception that happen during thetransform in `preprocessing_exc_tuple` in IPython 7.17 and above.\n",
            "  and should_run_async(code)\n"
          ]
        },
        {
          "output_type": "stream",
          "name": "stdout",
          "text": [
            "2023-04-18 15:12:57.023330: W tensorflow/compiler/tf2tensorrt/utils/py_utils.cc:38] TF-TRT Warning: Could not find TensorRT\n",
            "Looking in indexes: https://pypi.org/simple, https://us-python.pkg.dev/colab-wheels/public/simple/\n",
            "Collecting en-core-web-md==3.5.0\n",
            "  Downloading https://github.com/explosion/spacy-models/releases/download/en_core_web_md-3.5.0/en_core_web_md-3.5.0-py3-none-any.whl (42.8 MB)\n",
            "\u001b[2K     \u001b[90m━━━━━━━━━━━━━━━━━━━━━━━━━━━━━━━━━━━━━━━━\u001b[0m \u001b[32m42.8/42.8 MB\u001b[0m \u001b[31m13.6 MB/s\u001b[0m eta \u001b[36m0:00:00\u001b[0m\n",
            "\u001b[?25hRequirement already satisfied: spacy<3.6.0,>=3.5.0 in /usr/local/lib/python3.9/dist-packages (from en-core-web-md==3.5.0) (3.5.1)\n",
            "Requirement already satisfied: spacy-legacy<3.1.0,>=3.0.11 in /usr/local/lib/python3.9/dist-packages (from spacy<3.6.0,>=3.5.0->en-core-web-md==3.5.0) (3.0.12)\n",
            "Requirement already satisfied: requests<3.0.0,>=2.13.0 in /usr/local/lib/python3.9/dist-packages (from spacy<3.6.0,>=3.5.0->en-core-web-md==3.5.0) (2.27.1)\n",
            "Requirement already satisfied: setuptools in /usr/local/lib/python3.9/dist-packages (from spacy<3.6.0,>=3.5.0->en-core-web-md==3.5.0) (67.6.1)\n",
            "Requirement already satisfied: jinja2 in /usr/local/lib/python3.9/dist-packages (from spacy<3.6.0,>=3.5.0->en-core-web-md==3.5.0) (3.1.2)\n",
            "Requirement already satisfied: preshed<3.1.0,>=3.0.2 in /usr/local/lib/python3.9/dist-packages (from spacy<3.6.0,>=3.5.0->en-core-web-md==3.5.0) (3.0.8)\n",
            "Requirement already satisfied: packaging>=20.0 in /usr/local/lib/python3.9/dist-packages (from spacy<3.6.0,>=3.5.0->en-core-web-md==3.5.0) (23.0)\n",
            "Requirement already satisfied: spacy-loggers<2.0.0,>=1.0.0 in /usr/local/lib/python3.9/dist-packages (from spacy<3.6.0,>=3.5.0->en-core-web-md==3.5.0) (1.0.4)\n",
            "Requirement already satisfied: smart-open<7.0.0,>=5.2.1 in /usr/local/lib/python3.9/dist-packages (from spacy<3.6.0,>=3.5.0->en-core-web-md==3.5.0) (6.3.0)\n",
            "Requirement already satisfied: cymem<2.1.0,>=2.0.2 in /usr/local/lib/python3.9/dist-packages (from spacy<3.6.0,>=3.5.0->en-core-web-md==3.5.0) (2.0.7)\n",
            "Requirement already satisfied: numpy>=1.15.0 in /usr/local/lib/python3.9/dist-packages (from spacy<3.6.0,>=3.5.0->en-core-web-md==3.5.0) (1.22.4)\n",
            "Requirement already satisfied: typer<0.8.0,>=0.3.0 in /usr/local/lib/python3.9/dist-packages (from spacy<3.6.0,>=3.5.0->en-core-web-md==3.5.0) (0.7.0)\n",
            "Requirement already satisfied: pydantic!=1.8,!=1.8.1,<1.11.0,>=1.7.4 in /usr/local/lib/python3.9/dist-packages (from spacy<3.6.0,>=3.5.0->en-core-web-md==3.5.0) (1.10.7)\n",
            "Requirement already satisfied: wasabi<1.2.0,>=0.9.1 in /usr/local/lib/python3.9/dist-packages (from spacy<3.6.0,>=3.5.0->en-core-web-md==3.5.0) (1.1.1)\n",
            "Requirement already satisfied: tqdm<5.0.0,>=4.38.0 in /usr/local/lib/python3.9/dist-packages (from spacy<3.6.0,>=3.5.0->en-core-web-md==3.5.0) (4.65.0)\n",
            "Requirement already satisfied: thinc<8.2.0,>=8.1.8 in /usr/local/lib/python3.9/dist-packages (from spacy<3.6.0,>=3.5.0->en-core-web-md==3.5.0) (8.1.9)\n",
            "Requirement already satisfied: langcodes<4.0.0,>=3.2.0 in /usr/local/lib/python3.9/dist-packages (from spacy<3.6.0,>=3.5.0->en-core-web-md==3.5.0) (3.3.0)\n",
            "Requirement already satisfied: murmurhash<1.1.0,>=0.28.0 in /usr/local/lib/python3.9/dist-packages (from spacy<3.6.0,>=3.5.0->en-core-web-md==3.5.0) (1.0.9)\n",
            "Requirement already satisfied: catalogue<2.1.0,>=2.0.6 in /usr/local/lib/python3.9/dist-packages (from spacy<3.6.0,>=3.5.0->en-core-web-md==3.5.0) (2.0.8)\n",
            "Requirement already satisfied: pathy>=0.10.0 in /usr/local/lib/python3.9/dist-packages (from spacy<3.6.0,>=3.5.0->en-core-web-md==3.5.0) (0.10.1)\n",
            "Requirement already satisfied: srsly<3.0.0,>=2.4.3 in /usr/local/lib/python3.9/dist-packages (from spacy<3.6.0,>=3.5.0->en-core-web-md==3.5.0) (2.4.6)\n",
            "Requirement already satisfied: typing-extensions>=4.2.0 in /usr/local/lib/python3.9/dist-packages (from pydantic!=1.8,!=1.8.1,<1.11.0,>=1.7.4->spacy<3.6.0,>=3.5.0->en-core-web-md==3.5.0) (4.5.0)\n",
            "Requirement already satisfied: charset-normalizer~=2.0.0 in /usr/local/lib/python3.9/dist-packages (from requests<3.0.0,>=2.13.0->spacy<3.6.0,>=3.5.0->en-core-web-md==3.5.0) (2.0.12)\n",
            "Requirement already satisfied: certifi>=2017.4.17 in /usr/local/lib/python3.9/dist-packages (from requests<3.0.0,>=2.13.0->spacy<3.6.0,>=3.5.0->en-core-web-md==3.5.0) (2022.12.7)\n",
            "Requirement already satisfied: urllib3<1.27,>=1.21.1 in /usr/local/lib/python3.9/dist-packages (from requests<3.0.0,>=2.13.0->spacy<3.6.0,>=3.5.0->en-core-web-md==3.5.0) (1.26.15)\n",
            "Requirement already satisfied: idna<4,>=2.5 in /usr/local/lib/python3.9/dist-packages (from requests<3.0.0,>=2.13.0->spacy<3.6.0,>=3.5.0->en-core-web-md==3.5.0) (3.4)\n",
            "Requirement already satisfied: blis<0.8.0,>=0.7.8 in /usr/local/lib/python3.9/dist-packages (from thinc<8.2.0,>=8.1.8->spacy<3.6.0,>=3.5.0->en-core-web-md==3.5.0) (0.7.9)\n",
            "Requirement already satisfied: confection<1.0.0,>=0.0.1 in /usr/local/lib/python3.9/dist-packages (from thinc<8.2.0,>=8.1.8->spacy<3.6.0,>=3.5.0->en-core-web-md==3.5.0) (0.0.4)\n",
            "Requirement already satisfied: click<9.0.0,>=7.1.1 in /usr/local/lib/python3.9/dist-packages (from typer<0.8.0,>=0.3.0->spacy<3.6.0,>=3.5.0->en-core-web-md==3.5.0) (8.1.3)\n",
            "Requirement already satisfied: MarkupSafe>=2.0 in /usr/local/lib/python3.9/dist-packages (from jinja2->spacy<3.6.0,>=3.5.0->en-core-web-md==3.5.0) (2.1.2)\n",
            "\u001b[38;5;2m✔ Download and installation successful\u001b[0m\n",
            "You can now load the package via spacy.load('en_core_web_md')\n"
          ]
        }
      ]
    },
    {
      "cell_type": "code",
      "source": [
        "import spacy\n",
        "\n",
        "x = spacy.load('en_core_web_md', disable=['parser', 'ner'])"
      ],
      "metadata": {
        "id": "8EwaQEWwQ9rr",
        "colab": {
          "base_uri": "https://localhost:8080/"
        },
        "outputId": "e1d0248e-b4ba-4d3d-dc88-aa85c60bc31d"
      },
      "execution_count": 144,
      "outputs": [
        {
          "output_type": "stream",
          "name": "stderr",
          "text": [
            "/usr/local/lib/python3.9/dist-packages/ipykernel/ipkernel.py:283: DeprecationWarning: `should_run_async` will not call `transform_cell` automatically in the future. Please pass the result to `transformed_cell` argument and any exception that happen during thetransform in `preprocessing_exc_tuple` in IPython 7.17 and above.\n",
            "  and should_run_async(code)\n"
          ]
        }
      ]
    },
    {
      "cell_type": "code",
      "source": [
        "lemmatized_summaries = []\n",
        "\n",
        "for summary in summaries_new:\n",
        "  lm = x(summary)\n",
        "  temp = []\n",
        "  for i in lm:\n",
        "    if i.pos_ in ['NOUN', 'ADJ']:\n",
        "      temp.append(i.lemma_)\n",
        "  lemmatized_summaries.append(temp)"
      ],
      "metadata": {
        "id": "BPKl8sdhWRf8",
        "colab": {
          "base_uri": "https://localhost:8080/"
        },
        "outputId": "45df476c-1874-47a4-a057-d741796d028a"
      },
      "execution_count": 145,
      "outputs": [
        {
          "output_type": "stream",
          "name": "stderr",
          "text": [
            "/usr/local/lib/python3.9/dist-packages/ipykernel/ipkernel.py:283: DeprecationWarning: `should_run_async` will not call `transform_cell` automatically in the future. Please pass the result to `transformed_cell` argument and any exception that happen during thetransform in `preprocessing_exc_tuple` in IPython 7.17 and above.\n",
            "  and should_run_async(code)\n"
          ]
        }
      ]
    },
    {
      "cell_type": "code",
      "source": [
        "print(lemmatized_summaries[1])"
      ],
      "metadata": {
        "colab": {
          "base_uri": "https://localhost:8080/"
        },
        "id": "0sDN4PLLWRdw",
        "outputId": "0557d137-5f15-46eb-ff75-0507c8ac8841"
      },
      "execution_count": 146,
      "outputs": [
        {
          "output_type": "stream",
          "name": "stdout",
          "text": [
            "['good', 'budget', 'fit', 'nice', 'cooling']\n"
          ]
        },
        {
          "output_type": "stream",
          "name": "stderr",
          "text": [
            "/usr/local/lib/python3.9/dist-packages/ipykernel/ipkernel.py:283: DeprecationWarning: `should_run_async` will not call `transform_cell` automatically in the future. Please pass the result to `transformed_cell` argument and any exception that happen during thetransform in `preprocessing_exc_tuple` in IPython 7.17 and above.\n",
            "  and should_run_async(code)\n"
          ]
        }
      ]
    },
    {
      "cell_type": "code",
      "source": [
        "import gensim\n",
        "\n",
        "dict_ = gensim.corpora.Dictionary(lemmatized_summaries)\n",
        "\n",
        "matrix = []\n",
        "\n",
        "for i in lemmatized_summaries:\n",
        "  matrix.append(dict_.doc2bow(i))"
      ],
      "metadata": {
        "id": "MXIsIaytWRbY",
        "colab": {
          "base_uri": "https://localhost:8080/"
        },
        "outputId": "b0b81945-6bd9-4ee1-d74d-f848dcf8ff52"
      },
      "execution_count": 147,
      "outputs": [
        {
          "output_type": "stream",
          "name": "stderr",
          "text": [
            "/usr/local/lib/python3.9/dist-packages/ipykernel/ipkernel.py:283: DeprecationWarning: `should_run_async` will not call `transform_cell` automatically in the future. Please pass the result to `transformed_cell` argument and any exception that happen during thetransform in `preprocessing_exc_tuple` in IPython 7.17 and above.\n",
            "  and should_run_async(code)\n"
          ]
        }
      ]
    },
    {
      "cell_type": "code",
      "source": [
        "lda_model = gensim.models.ldamodel.LdaModel.load(\"/content/drive/MyDrive/datasets/aml/lda_model_10topics\")\n"
      ],
      "metadata": {
        "id": "zT2WdSgfWRYX",
        "colab": {
          "base_uri": "https://localhost:8080/"
        },
        "outputId": "36138bff-daa3-4d04-e011-57d6ea78f60a"
      },
      "execution_count": 148,
      "outputs": [
        {
          "output_type": "stream",
          "name": "stderr",
          "text": [
            "/usr/local/lib/python3.9/dist-packages/ipykernel/ipkernel.py:283: DeprecationWarning: `should_run_async` will not call `transform_cell` automatically in the future. Please pass the result to `transformed_cell` argument and any exception that happen during thetransform in `preprocessing_exc_tuple` in IPython 7.17 and above.\n",
            "  and should_run_async(code)\n"
          ]
        }
      ]
    },
    {
      "cell_type": "code",
      "source": [
        "LDA = gensim.models.ldamodel.LdaModel\n",
        "# Building LDA model\n",
        "lda_model = LDA(corpus=matrix, id2word=dict_, num_topics=10, random_state=42,\n",
        "                chunksize=800, passes=60,iterations=80)"
      ],
      "metadata": {
        "id": "jUOzo35hQ9pV"
      },
      "execution_count": 18,
      "outputs": []
    },
    {
      "cell_type": "code",
      "source": [
        "lda_model.print_topics()"
      ],
      "metadata": {
        "colab": {
          "base_uri": "https://localhost:8080/"
        },
        "id": "PgV_blexQ9m8",
        "outputId": "c6d6793d-7115-448e-ba07-57efb1c2ff15"
      },
      "execution_count": 149,
      "outputs": [
        {
          "output_type": "stream",
          "name": "stderr",
          "text": [
            "/usr/local/lib/python3.9/dist-packages/ipykernel/ipkernel.py:283: DeprecationWarning: `should_run_async` will not call `transform_cell` automatically in the future. Please pass the result to `transformed_cell` argument and any exception that happen during thetransform in `preprocessing_exc_tuple` in IPython 7.17 and above.\n",
            "  and should_run_async(code)\n"
          ]
        },
        {
          "output_type": "execute_result",
          "data": {
            "text/plain": [
              "[(0,\n",
              "  '0.659*\"good\" + 0.139*\"quality\" + 0.042*\"price\" + 0.019*\"design\" + 0.013*\"range\" + 0.009*\"piece\" + 0.009*\"overall\" + 0.006*\"fabulous\" + 0.005*\"fitting\" + 0.005*\"long\"'),\n",
              " (1,\n",
              "  '0.429*\"nice\" + 0.221*\"product\" + 0.100*\"flipkart\" + 0.058*\"thank\" + 0.057*\"delivery\" + 0.020*\"satisfied\" + 0.012*\"fast\" + 0.011*\"packaging\" + 0.009*\"boy\" + 0.006*\"safe\"'),\n",
              " (2,\n",
              "  '0.149*\"bad\" + 0.063*\"bowl\" + 0.043*\"installation\" + 0.042*\"item\" + 0.031*\"watch\" + 0.030*\"service\" + 0.028*\"packaging\" + 0.022*\"month\" + 0.020*\"average\" + 0.018*\"colour\"'),\n",
              " (3,\n",
              "  '0.489*\"product\" + 0.268*\"good\" + 0.065*\"excellent\" + 0.034*\"beautiful\" + 0.009*\"comfortable\" + 0.008*\"family\" + 0.007*\"waste\" + 0.006*\"reasonable\" + 0.006*\"service\" + 0.006*\"book\"'),\n",
              " (4,\n",
              "  '0.193*\"small\" + 0.126*\"size\" + 0.060*\"amazing\" + 0.059*\"great\" + 0.033*\"packing\" + 0.032*\"love\" + 0.031*\"perfect\" + 0.026*\"much\" + 0.024*\"superb\" + 0.021*\"big\"'),\n",
              " (5,\n",
              "  '0.233*\"awesome\" + 0.086*\"quality\" + 0.084*\"little\" + 0.064*\"bit\" + 0.059*\"poor\" + 0.022*\"flipcart\" + 0.021*\"issue\" + 0.015*\"option\" + 0.014*\"gift\" + 0.012*\"performance\"'),\n",
              " (6,\n",
              "  '0.185*\"quality\" + 0.155*\"money\" + 0.083*\"price\" + 0.079*\"worth\" + 0.064*\"value\" + 0.043*\"super\" + 0.041*\"material\" + 0.029*\"low\" + 0.019*\"high\" + 0.017*\"cheap\"'),\n",
              " (7,\n",
              "  '0.137*\"plate\" + 0.078*\"time\" + 0.034*\"use\" + 0.031*\"seed\" + 0.027*\"easy\" + 0.024*\"microwave\" + 0.020*\"set\" + 0.018*\"condition\" + 0.016*\"hot\" + 0.016*\"water\"'),\n",
              " (8,\n",
              "  '0.144*\"happy\" + 0.082*\"table\" + 0.075*\"dinner\" + 0.058*\"day\" + 0.034*\"work\" + 0.031*\"purchase\" + 0.028*\"picture\" + 0.027*\"useful\" + 0.021*\"star\" + 0.020*\"damage\"'),\n",
              " (9,\n",
              "  '0.035*\"camera\" + 0.028*\"fine\" + 0.027*\"well\" + 0.026*\"look\" + 0.025*\"heavy\" + 0.025*\"space\" + 0.024*\"review\" + 0.024*\"experience\" + 0.022*\"problem\" + 0.019*\"side\"')]"
            ]
          },
          "metadata": {},
          "execution_count": 149
        }
      ]
    },
    {
      "cell_type": "code",
      "source": [
        "lda_model.save(\"/content/drive/MyDrive/datasets/aml/lda_model_10topics\")"
      ],
      "metadata": {
        "id": "V2aeCUNOAyX2"
      },
      "execution_count": 20,
      "outputs": []
    },
    {
      "cell_type": "code",
      "source": [
        "import locale\n",
        "locale.getpreferredencoding = lambda: \"UTF-8\""
      ],
      "metadata": {
        "id": "YrHu1D7Zsp9K",
        "colab": {
          "base_uri": "https://localhost:8080/"
        },
        "outputId": "2399c81b-aead-41e8-a8f9-05b02ec99847"
      },
      "execution_count": 150,
      "outputs": [
        {
          "output_type": "stream",
          "name": "stderr",
          "text": [
            "/usr/local/lib/python3.9/dist-packages/ipykernel/ipkernel.py:283: DeprecationWarning: `should_run_async` will not call `transform_cell` automatically in the future. Please pass the result to `transformed_cell` argument and any exception that happen during thetransform in `preprocessing_exc_tuple` in IPython 7.17 and above.\n",
            "  and should_run_async(code)\n"
          ]
        }
      ]
    },
    {
      "cell_type": "code",
      "source": [
        "!pip install pyLDAvis"
      ],
      "metadata": {
        "colab": {
          "base_uri": "https://localhost:8080/"
        },
        "id": "02FDgn83pyz4",
        "outputId": "c5a7f92d-ddef-4d96-9bd4-0dd1ffacdd9e"
      },
      "execution_count": 151,
      "outputs": [
        {
          "output_type": "stream",
          "name": "stderr",
          "text": [
            "/usr/local/lib/python3.9/dist-packages/ipykernel/ipkernel.py:283: DeprecationWarning: `should_run_async` will not call `transform_cell` automatically in the future. Please pass the result to `transformed_cell` argument and any exception that happen during thetransform in `preprocessing_exc_tuple` in IPython 7.17 and above.\n",
            "  and should_run_async(code)\n"
          ]
        },
        {
          "output_type": "stream",
          "name": "stdout",
          "text": [
            "Looking in indexes: https://pypi.org/simple, https://us-python.pkg.dev/colab-wheels/public/simple/\n",
            "Requirement already satisfied: pyLDAvis in /usr/local/lib/python3.9/dist-packages (3.4.0)\n",
            "Requirement already satisfied: scipy in /usr/local/lib/python3.9/dist-packages (from pyLDAvis) (1.10.1)\n",
            "Requirement already satisfied: setuptools in /usr/local/lib/python3.9/dist-packages (from pyLDAvis) (67.6.1)\n",
            "Requirement already satisfied: scikit-learn>=1.0.0 in /usr/local/lib/python3.9/dist-packages (from pyLDAvis) (1.2.2)\n",
            "Requirement already satisfied: joblib>=1.2.0 in /usr/local/lib/python3.9/dist-packages (from pyLDAvis) (1.2.0)\n",
            "Requirement already satisfied: funcy in /usr/local/lib/python3.9/dist-packages (from pyLDAvis) (2.0)\n",
            "Requirement already satisfied: pandas>=1.3.4 in /usr/local/lib/python3.9/dist-packages (from pyLDAvis) (1.5.3)\n",
            "Requirement already satisfied: jinja2 in /usr/local/lib/python3.9/dist-packages (from pyLDAvis) (3.1.2)\n",
            "Requirement already satisfied: numexpr in /usr/local/lib/python3.9/dist-packages (from pyLDAvis) (2.8.4)\n",
            "Requirement already satisfied: numpy>=1.22.0 in /usr/local/lib/python3.9/dist-packages (from pyLDAvis) (1.22.4)\n",
            "Requirement already satisfied: gensim in /usr/local/lib/python3.9/dist-packages (from pyLDAvis) (4.3.1)\n",
            "Requirement already satisfied: pytz>=2020.1 in /usr/local/lib/python3.9/dist-packages (from pandas>=1.3.4->pyLDAvis) (2022.7.1)\n",
            "Requirement already satisfied: python-dateutil>=2.8.1 in /usr/local/lib/python3.9/dist-packages (from pandas>=1.3.4->pyLDAvis) (2.8.2)\n",
            "Requirement already satisfied: threadpoolctl>=2.0.0 in /usr/local/lib/python3.9/dist-packages (from scikit-learn>=1.0.0->pyLDAvis) (3.1.0)\n",
            "Requirement already satisfied: smart-open>=1.8.1 in /usr/local/lib/python3.9/dist-packages (from gensim->pyLDAvis) (6.3.0)\n",
            "Requirement already satisfied: MarkupSafe>=2.0 in /usr/local/lib/python3.9/dist-packages (from jinja2->pyLDAvis) (2.1.2)\n",
            "Requirement already satisfied: six>=1.5 in /usr/local/lib/python3.9/dist-packages (from python-dateutil>=2.8.1->pandas>=1.3.4->pyLDAvis) (1.16.0)\n"
          ]
        }
      ]
    },
    {
      "cell_type": "code",
      "source": [
        "import pyLDAvis\n",
        "import pyLDAvis.gensim\n",
        "\n",
        "pyLDAvis.enable_notebook()\n",
        "vis = pyLDAvis.gensim.prepare(lda_model, matrix, dict_)\n",
        "vis"
      ],
      "metadata": {
        "colab": {
          "base_uri": "https://localhost:8080/",
          "height": 915
        },
        "id": "tTnhFUr2Q9kj",
        "outputId": "effc2bb9-e6a7-4397-af9a-6b941f2e08a4"
      },
      "execution_count": 23,
      "outputs": [
        {
          "output_type": "stream",
          "name": "stderr",
          "text": [
            "/usr/local/lib/python3.9/dist-packages/pyLDAvis/_prepare.py:243: FutureWarning: In a future version of pandas all arguments of DataFrame.drop except for the argument 'labels' will be keyword-only.\n",
            "  default_term_info = default_term_info.sort_values(\n"
          ]
        },
        {
          "output_type": "execute_result",
          "data": {
            "text/plain": [
              "PreparedData(topic_coordinates=              x         y  topics  cluster       Freq\n",
              "topic                                                \n",
              "3     -0.364940  0.084753       1        1  13.295446\n",
              "0     -0.243027 -0.230002       2        1  12.727722\n",
              "1     -0.217321  0.264234       3        1  11.734594\n",
              "2      0.119827  0.093814       4        1   9.703975\n",
              "5      0.082257 -0.214615       5        1   9.453453\n",
              "4      0.140330  0.094902       6        1   9.225388\n",
              "7      0.152243  0.075899       7        1   9.152212\n",
              "6      0.020167 -0.297845       8        1   9.061690\n",
              "9      0.155246  0.056599       9        1   8.101261\n",
              "8      0.155217  0.072261      10        1   7.544260, topic_info=         Term          Freq         Total Category  logprob  loglift\n",
              "12       good  81632.000000  81632.000000  Default  30.0000  30.0000\n",
              "19    product  62067.000000  62067.000000  Default  29.0000  29.0000\n",
              "13       nice  34413.000000  34413.000000  Default  28.0000  28.0000\n",
              "16    quality  29021.000000  29021.000000  Default  27.0000  27.0000\n",
              "23    awesome  15016.000000  15016.000000  Default  26.0000  26.0000\n",
              "...       ...           ...           ...      ...      ...      ...\n",
              "275      next    356.558155    357.684100  Topic10  -4.9734   2.5812\n",
              "551     usage    345.076989    346.202979  Topic10  -5.0061   2.5811\n",
              "285   storage    338.833107    339.959133  Topic10  -5.0244   2.5811\n",
              "5298   dinner   3871.574708   4013.147995  Topic10  -2.5885   2.5485\n",
              "274     month    458.491696   1938.957178  Topic10  -4.7220   1.1424\n",
              "\n",
              "[353 rows x 6 columns], token_table=      Topic      Freq        Term\n",
              "term                             \n",
              "89        2  0.984855         2nd\n",
              "704       1  0.994868        able\n",
              "631       2  0.992088   accessory\n",
              "31        8  0.998735  affordable\n",
              "1         6  0.999815     amazing\n",
              "...     ...       ...         ...\n",
              "287       8  0.999856       worth\n",
              "288       7  0.998777      worthy\n",
              "659       3  0.982525     writing\n",
              "596       3  0.985101       wrong\n",
              "231       6  0.998677        year\n",
              "\n",
              "[337 rows x 3 columns], R=30, lambda_step=0.01, plot_opts={'xlab': 'PC1', 'ylab': 'PC2'}, topic_order=[4, 1, 2, 3, 6, 5, 8, 7, 10, 9])"
            ],
            "text/html": [
              "\n",
              "<link rel=\"stylesheet\" type=\"text/css\" href=\"https://cdn.jsdelivr.net/gh/bmabey/pyLDAvis@3.4.0/pyLDAvis/js/ldavis.v1.0.0.css\">\n",
              "\n",
              "\n",
              "<div id=\"ldavis_el1431406276872198242875172981\" style=\"background-color:white;\"></div>\n",
              "<script type=\"text/javascript\">\n",
              "\n",
              "var ldavis_el1431406276872198242875172981_data = {\"mdsDat\": {\"x\": [-0.3649400547936376, -0.24302720096265215, -0.2173205765795293, 0.11982715389500262, 0.08225742087448981, 0.14033026182667, 0.15224258096294835, 0.020167247483912864, 0.15524618793673842, 0.1552169793560563], \"y\": [0.08475319716196543, -0.23000220077291886, 0.2642344405011166, 0.0938137324426189, -0.21461543093553717, 0.0949019147699728, 0.07589869894567641, -0.2978448618088765, 0.05659921159799275, 0.07226129809798987], \"topics\": [1, 2, 3, 4, 5, 6, 7, 8, 9, 10], \"cluster\": [1, 1, 1, 1, 1, 1, 1, 1, 1, 1], \"Freq\": [13.295446253324508, 12.72772218332586, 11.734594312695492, 9.703974589678579, 9.453452916233932, 9.225387842079327, 9.15221160036993, 9.061689722041377, 8.101260695876423, 7.5442598843745685]}, \"tinfo\": {\"Term\": [\"good\", \"product\", \"nice\", \"quality\", \"awesome\", \"small\", \"bad\", \"money\", \"plate\", \"happy\", \"size\", \"flipkart\", \"price\", \"little\", \"excellent\", \"worth\", \"time\", \"table\", \"thank\", \"delivery\", \"bit\", \"bowl\", \"dinner\", \"value\", \"amazing\", \"poor\", \"great\", \"day\", \"installation\", \"super\", \"excellent\", \"beautiful\", \"comfortable\", \"family\", \"waste\", \"reasonable\", \"book\", \"wise\", \"date\", \"able\", \"top\", \"genuine\", \"different\", \"filpkart\", \"choice\", \"main\", \"technician\", \"valuable\", \"expensive\", \"member\", \"half\", \"defective\", \"slow\", \"surface\", \"belt\", \"process\", \"total\", \"useless\", \"bottom\", \"system\", \"product\", \"good\", \"service\", \"range\", \"piece\", \"fabulous\", \"fitting\", \"long\", \"class\", \"outstanding\", \"awsome\", \"due\", \"fabric\", \"bt\", \"wifi\", \"office\", \"hand\", \"finish\", \"stylish\", \"child\", \"result\", \"gifted\", \"impressive\", \"accessory\", \"2nd\", \"view\", \"pc\", \"negative\", \"period\", \"meterial\", \"productgo\", \"collection\", \"personal\", \"good\", \"design\", \"quality\", \"overall\", \"price\", \"nice\", \"flipkart\", \"thank\", \"delivery\", \"fast\", \"boy\", \"safe\", \"door\", \"durable\", \"quick\", \"pant\", \"night\", \"satisfactory\", \"timely\", \"polite\", \"area\", \"durability\", \"gifting\", \"exellent\", \"response\", \"behaviour\", \"thanx\", \"writing\", \"help\", \"early\", \"wrong\", \"pricing\", \"special\", \"tnx\", \"prompt\", \"satisfied\", \"order\", \"product\", \"packaging\", \"bad\", \"bowl\", \"installation\", \"item\", \"watch\", \"average\", \"colour\", \"card\", \"cello\", \"guy\", \"broken\", \"customer\", \"screw\", \"thin\", \"part\", \"company\", \"rate\", \"speed\", \"care\", \"memory\", \"proper\", \"free\", \"iron\", \"dish\", \"box\", \"suitable\", \"pack\", \"edge\", \"wall\", \"gb\", \"service\", \"month\", \"packaging\", \"awesome\", \"little\", \"bit\", \"poor\", \"flipcart\", \"issue\", \"option\", \"gift\", \"performance\", \"cloth\", \"heating\", \"disappointed\", \"app\", \"pic\", \"doubt\", \"model\", \"basic\", \"battery\", \"user\", \"flip\", \"description\", \"sound\", \"soft\", \"kart\", \"elegant\", \"word\", \"regular\", \"break\", \"today\", \"osam\", \"quality\", \"small\", \"size\", \"amazing\", \"great\", \"packing\", \"love\", \"perfect\", \"much\", \"superb\", \"light\", \"person\", \"wonderful\", \"buy\", \"weight\", \"demo\", \"year\", \"deal\", \"hour\", \"support\", \"feature\", \"heat\", \"ok\", \"last\", \"available\", \"height\", \"type\", \"glass\", \"large\", \"new\", \"original\", \"big\", \"thing\", \"overall\", \"plate\", \"time\", \"use\", \"seed\", \"easy\", \"set\", \"condition\", \"hot\", \"water\", \"sturdy\", \"oven\", \"brand\", \"purpose\", \"less\", \"food\", \"lot\", \"juicer\", \"juice\", \"many\", \"week\", \"rice\", \"simple\", \"job\", \"worthy\", \"microwave\", \"plant\", \"fit\", \"daily\", \"market\", \"video\", \"money\", \"worth\", \"value\", \"super\", \"material\", \"low\", \"high\", \"cheap\", \"strong\", \"affordable\", \"tv\", \"cost\", \"decent\", \"cool\", \"one\", \"room\", \"osm\", \"supper\", \"plastic\", \"kid\", \"compact\", \"build\", \"smooth\", \"corner\", \"standard\", \"real\", \"penny\", \"hero\", \"local\", \"online\", \"price\", \"quality\", \"camera\", \"fine\", \"well\", \"look\", \"heavy\", \"space\", \"review\", \"experience\", \"problem\", \"side\", \"seller\", \"image\", \"package\", \"classy\", \"normal\", \"expectation\", \"enough\", \"inch\", \"baby\", \"friendly\", \"people\", \"way\", \"need\", \"unit\", \"clean\", \"old\", \"device\", \"inverter\", \"premium\", \"button\", \"happy\", \"table\", \"day\", \"work\", \"purchase\", \"picture\", \"useful\", \"star\", \"damage\", \"study\", \"full\", \"fantastic\", \"wood\", \"lovely\", \"home\", \"leg\", \"first\", \"chair\", \"budget\", \"quantity\", \"laptop\", \"second\", \"color\", \"mind\", \"r\", \"working\", \"scratch\", \"next\", \"usage\", \"storage\", \"dinner\", \"month\"], \"Freq\": [81632.0, 62067.0, 34413.0, 29021.0, 15016.0, 12167.0, 9904.0, 9611.0, 8561.0, 7416.0, 7951.0, 8034.0, 8773.0, 5409.0, 5914.0, 4898.0, 4860.0, 4213.0, 4646.0, 4603.0, 4149.0, 4174.0, 4013.0, 3958.0, 3789.0, 3791.0, 3741.0, 3004.0, 2856.0, 2681.0, 5913.434218742762, 3107.847300292385, 786.8890301505502, 698.486642237553, 625.2652799051191, 576.9733996753408, 511.14043782650543, 500.9253828753009, 358.9266762921634, 318.4879343324566, 308.87834941098066, 295.5438636441587, 271.24809950948134, 211.9865468763049, 198.99082493181544, 198.92506812945282, 190.96745900392366, 174.0417637941154, 168.63747438939393, 153.10457591335845, 149.74108375701059, 145.5969251515203, 140.70140521845502, 128.3104027035386, 124.51432170540998, 121.40215373918538, 119.25454926022182, 114.88794871284858, 114.27853538934478, 111.90157498960032, 44391.087592119344, 24337.35457214343, 565.2557066436517, 1138.4474948149777, 800.9484478024468, 517.4385854488617, 446.44512985142705, 410.2302173392127, 360.47116128839946, 314.4348370135799, 288.55802363169073, 279.61953660239976, 279.36950177443543, 263.17915461981283, 251.68836113040575, 230.88126549806879, 217.39606322224265, 162.04966085610812, 161.76095594485832, 153.54947862582574, 151.14190413667689, 145.574525388569, 128.70839803470375, 107.71152449036215, 103.43399188586513, 103.52456954757808, 95.90761566288384, 93.01520273354694, 89.78949437033373, 85.70035318179055, 83.4218037886393, 78.40208592039355, 74.26151787285657, 57294.467208322836, 1625.15715816951, 12071.187456224381, 785.0787556906973, 3617.7628924979654, 34412.81594926042, 8033.43787518213, 4645.05782727468, 4602.398641194233, 927.7421238388018, 727.0222959851367, 483.4741719628601, 239.48509646483305, 208.94861426797257, 193.12521360070306, 192.85344685893003, 182.25228589395448, 166.26602672531484, 162.62499060725293, 117.23333857675281, 108.97929388564872, 102.58919245498366, 87.25158673530981, 85.39270072866604, 81.84262986383303, 81.64129144613138, 79.90725056085418, 78.21965336702708, 73.84295010946842, 68.17286352449648, 66.84719121782392, 65.18357399125482, 62.60004043318113, 58.618138877809535, 58.31970025416607, 1585.0535166562743, 342.9643282648777, 17674.854041073373, 894.8449678223789, 9903.369857372676, 4173.454615751744, 2855.224488787751, 2756.0459994121743, 2048.9350320410545, 1333.3985930950319, 1219.532997868441, 1183.8934481692443, 1138.80866903082, 1013.6627123100075, 896.8952516353597, 874.0841571034717, 817.4394472597165, 782.2779862202773, 717.958425602478, 712.5178445559901, 643.8602389216486, 637.6840371445824, 634.2029714519155, 616.830420919934, 574.6882481611923, 517.347331351772, 507.69512563414986, 483.5600434174577, 471.7043397213934, 447.35728120287973, 404.2122025106222, 388.40351733056156, 385.4441516130968, 368.6439803061123, 1990.0690772221262, 1479.4790306169011, 1881.9151136947019, 15015.401300531577, 5408.245774111111, 4148.874967019928, 3789.939306149809, 1434.4883461491365, 1367.2391748848513, 949.0832167506547, 879.702617995145, 777.0838014449581, 718.1146282414646, 694.0380487978633, 625.9232933075122, 620.861002678174, 620.4553916176756, 586.0794182611551, 558.4260047362416, 532.4137374607076, 531.4358209201847, 517.1948135793284, 495.3599493489612, 420.6255852702311, 398.21522840102466, 395.642770291906, 386.45725831725423, 376.96307301813414, 374.15106684978707, 369.24169970849164, 346.99304604783674, 343.22672635471855, 328.17882661804776, 5523.9211174893835, 12166.386088667008, 7950.041414355835, 3788.5513120147157, 3740.5724285465963, 2081.6869343467574, 2037.615486978574, 1968.0095573615056, 1649.773816116626, 1524.5988917390328, 1045.5886804834956, 882.8360797498918, 859.2196941747786, 738.1276132998415, 728.8472765095635, 721.3410250962102, 661.7272142659375, 616.5353073660937, 539.3563435908427, 505.6024781929561, 502.82659295927874, 440.30764470245794, 430.34577767748976, 396.926324820386, 390.1680342806921, 356.3761121077423, 347.9766854955271, 344.18843722928943, 344.0281997207157, 343.93166403069415, 335.8165922427947, 1328.7584338422262, 781.1327667545347, 479.44867107802725, 8560.197673554903, 4859.476729107838, 2152.367822738443, 1935.1054213074603, 1674.9400554180982, 1230.7991331011, 1122.3647120078087, 989.5062137948225, 972.9106471657669, 946.317569571314, 934.5446173755589, 887.3388161368377, 835.9148865054381, 797.3984192762464, 792.9894495813279, 670.5047888064904, 667.1591276973293, 624.9250975167831, 597.7782424766599, 573.827833702, 570.6306305918358, 570.2265919592714, 563.5281088257034, 528.5288153586318, 1492.7604332465644, 512.0053818514418, 509.27334713813497, 497.4326864510725, 492.02986322639794, 470.691936811735, 9610.172309228585, 4897.595787445756, 3957.752074627186, 2680.1127870438318, 2510.341938819911, 1814.467256011675, 1198.8990681586818, 1053.793197460396, 969.2057876459863, 902.0318086171405, 776.698293094876, 644.6057326039667, 632.7989479791884, 572.7268744686646, 477.21369560467264, 414.0058142036455, 394.15293175998823, 391.7857932423741, 386.6100284885887, 364.4357184244077, 330.05628180058886, 311.7411704251921, 310.3294069496677, 307.17673848236865, 272.65941980830974, 234.2438060823499, 199.0090770710104, 181.9632645025894, 177.059675572684, 161.7302553113117, 5154.790542109593, 11425.676793338931, 1958.1461027211178, 1570.5778075914816, 1486.7090323987898, 1463.2005651370127, 1407.224627731852, 1381.1084602732649, 1351.3077477636612, 1330.5074711019151, 1229.2941553803905, 1070.9415841191892, 1013.6318556288178, 1013.3503794327194, 881.4554368668955, 858.7493468246815, 833.241481273591, 730.1190024914914, 729.4011402777139, 662.9336955750595, 602.9364929677827, 601.9701360235792, 600.2087196225087, 561.1255282000079, 547.5468011149503, 542.4344678015565, 540.2178556406658, 519.8445858922979, 518.9955708189323, 493.94666297609024, 490.69268065271996, 483.63531693483225, 7415.706196422081, 4212.333140211536, 3003.479960377504, 1735.3703952671005, 1592.2818572046162, 1442.2006437482728, 1399.6203327788219, 1062.4808533802213, 1052.0152115948804, 1035.2334625146618, 972.3979561699082, 898.9618591467552, 850.5630049376292, 764.8731932961122, 760.2313736900752, 756.606613789083, 577.2531042062611, 564.0198583445776, 527.2176347411006, 481.7098158149124, 473.51023085080976, 463.73881761702717, 460.04855087427654, 443.1810430202689, 433.62851381964384, 412.09010420128016, 410.8038665655227, 356.55815480416663, 345.0769890053094, 338.83310720262705, 3871.5747077455353, 458.49169559699845], \"Total\": [81632.0, 62067.0, 34413.0, 29021.0, 15016.0, 12167.0, 9904.0, 9611.0, 8561.0, 7416.0, 7951.0, 8034.0, 8773.0, 5409.0, 5914.0, 4898.0, 4860.0, 4213.0, 4646.0, 4603.0, 4149.0, 4174.0, 4013.0, 3958.0, 3789.0, 3791.0, 3741.0, 3004.0, 2856.0, 2681.0, 5914.5862028302245, 3108.9993547439763, 788.0411065099207, 699.639230727557, 626.4172367729361, 578.1254491596932, 512.2924136014215, 502.0775555518849, 360.07891724031106, 319.64029599494603, 310.0306700147287, 296.6959372670277, 272.4004383948158, 213.13848658905036, 200.14290116154956, 200.07739800666238, 192.1196717814427, 175.19372716548182, 169.78960679437617, 154.25720847936185, 150.89334302617797, 146.7490013496851, 141.8535005120606, 129.46282706554723, 125.66684395284592, 122.55423673170806, 120.4066217481829, 116.03997869491963, 115.43093626067481, 113.05365042971889, 62067.014487890505, 81632.87834979167, 2556.3373571939037, 1139.596957286468, 802.0985300799153, 518.5881252394735, 447.59476408351344, 411.3799328694432, 361.62069796497127, 315.5843751780266, 289.70745787721336, 280.7693887543862, 280.51893041129443, 264.32889472702635, 252.83893452977821, 232.03106363521604, 218.54576853092803, 163.1994951795313, 162.91049494062028, 154.69910144109744, 152.29153208462012, 146.72422223043182, 129.85797533770753, 108.86134691841686, 104.58387897631295, 104.67586277986382, 97.05736426278251, 94.16530019476303, 90.93923198519494, 86.84987505016785, 84.57130584399076, 79.55185712276085, 75.41195160150521, 81632.87834979167, 1951.2936216176222, 29021.61703355378, 1265.5822134367313, 8773.568997933098, 34413.981617803736, 8034.603650212647, 4646.2235530079115, 4603.564478841962, 928.9078651664653, 728.1880335668473, 484.6403145157939, 240.65140146238227, 210.11470203112492, 194.2910551850289, 194.01954223828827, 183.4194097221179, 167.43190059061587, 163.79072985960585, 118.39923998658851, 110.14525097050688, 103.75528174466588, 88.4191597286089, 86.55832260876062, 83.00846285619095, 82.80710753143613, 81.07299600242614, 79.38728870034883, 75.00892297329149, 69.3386914210084, 68.0133257199031, 66.34948418456885, 63.76584106047425, 59.78384741207234, 59.48554624501832, 1926.303343797127, 405.97278969116087, 62067.014487890505, 2777.786578909115, 9904.475166010314, 4174.562664754987, 2856.3299256523387, 2757.1513659704265, 2050.0406932025758, 1334.5039276025054, 1220.638354297279, 1184.9988473026249, 1139.9169139772932, 1014.7681189377577, 898.0006951182236, 875.1895526949717, 818.5450050346006, 783.3834192145446, 719.0638841984347, 713.6232757671322, 644.9656506239745, 638.7894101142329, 635.3084160996991, 617.937690349563, 575.7936743327347, 518.4527772550838, 508.8008995805665, 484.6690348452289, 472.80972247288935, 448.4627187054714, 405.31757113453426, 389.50922167498925, 386.54958412224346, 369.7501651126282, 2556.3373571939037, 1938.9571783321608, 2777.786578909115, 15016.462280951411, 5409.306853690889, 4149.93607942231, 3791.000272147423, 1435.5493782073609, 1368.3002556971694, 950.1444129758167, 880.7637930563964, 778.1447761386362, 719.1756055936557, 695.0991523801638, 626.9843959743628, 621.9221273936962, 621.5164429828403, 587.1404823527627, 559.4871005542107, 533.4751498855633, 532.4968088583076, 518.2560321799834, 496.4209396747132, 421.6867249399141, 399.27621165165, 396.70373022821104, 387.5182710297613, 378.02429577890047, 375.2120932498249, 370.3027903864847, 348.0544243006322, 344.28780017815336, 329.23980282099046, 29021.61703355378, 12167.536122234016, 7951.191424564414, 3789.7012935879584, 3741.7224539009685, 2082.8370652370454, 2038.7654939813258, 1969.1595600484902, 1650.923860360717, 1525.7488762330056, 1046.7386401608169, 883.9862777538683, 860.369657016257, 739.2776398916202, 729.9972792190828, 722.4924250949341, 662.8772558906782, 617.6853640896962, 540.5064293439077, 506.7525727847478, 503.976799540612, 441.4576850107731, 431.4957744884581, 398.07637226891626, 391.3180828788943, 357.5262648067726, 349.12670006061376, 345.3386460923446, 345.1783465578294, 345.0817743189192, 336.96662077253376, 1718.3778045050808, 1157.1520668316718, 1265.5822134367313, 8561.317301310955, 4860.595786654418, 2153.486850959691, 1936.2343072436724, 1676.0590471929313, 1231.918587905621, 1123.4837832320316, 990.6251962624791, 974.0295800945427, 947.4367679500097, 935.6976621697596, 888.4578836659375, 837.0339979607786, 798.5174788916797, 794.1086721419972, 671.6238342896246, 668.2804811512134, 626.0484917849141, 598.8973049316239, 574.9468402128871, 571.7497859200366, 571.3456771772145, 564.6471284446447, 529.6477792221516, 1495.9209330430754, 513.124542012983, 510.3923995415505, 498.55172690433284, 493.14891557902376, 471.8114092550857, 9611.28316278429, 4898.706668761261, 3958.8629398831968, 2681.2236405133576, 2511.4528752054653, 1815.5781379303903, 1200.0100042810866, 1054.9041364157865, 970.3167446848521, 903.1427275832126, 777.8093048797554, 645.7166740903712, 633.9099142450107, 573.8378121348469, 478.3246387725182, 415.116749783705, 395.26376646831187, 392.89661508125624, 387.7209358256415, 365.5466581758595, 331.16737219811154, 312.85214128067315, 311.4403857041809, 308.2878387429752, 273.77050073242077, 235.35493292196705, 200.11993321665545, 183.07969176129765, 178.1706516038818, 162.84135315173447, 8773.568997933098, 29021.61703355378, 1959.211690672418, 1571.6423932068694, 1487.773630620557, 1464.2651833600632, 1408.289287869471, 1382.173128009403, 1352.3723549383653, 1331.5720590408887, 1230.3587608334428, 1072.006193487643, 1014.696469864014, 1014.4149971452874, 882.520126174966, 859.8140018718476, 834.3061281061971, 731.1835978396763, 730.4657975315477, 663.9984307113067, 604.0010486987157, 603.034812410406, 601.2733794672001, 562.1901917039664, 548.6114319094622, 543.4992340137716, 541.282430264457, 520.9091696256834, 520.0601949625442, 495.0116990682308, 491.75734525788204, 484.6999330366769, 7416.832123662517, 4213.459200089071, 3004.6059212181913, 1736.496324487067, 1593.4077808939371, 1443.3265978303734, 1400.7462370193261, 1063.6068412653067, 1053.14117957117, 1036.359436306491, 973.5239226179183, 900.0877524655536, 851.6891236687413, 765.9990899883063, 761.3573686763159, 757.7329043716564, 578.3790993499705, 565.1460664548214, 528.3435958006751, 482.83577390339065, 474.6365303341349, 464.8648129964263, 461.17445735385536, 444.30697734062926, 434.7544853684303, 413.21597920146087, 411.9299385340104, 357.68410013346835, 346.20297902307703, 339.95913312211525, 4013.147995297356, 1938.9571783321608], \"Category\": [\"Default\", \"Default\", \"Default\", \"Default\", \"Default\", \"Default\", \"Default\", \"Default\", \"Default\", \"Default\", \"Default\", \"Default\", \"Default\", \"Default\", \"Default\", \"Default\", \"Default\", \"Default\", \"Default\", \"Default\", \"Default\", \"Default\", \"Default\", \"Default\", \"Default\", \"Default\", \"Default\", \"Default\", \"Default\", \"Default\", \"Topic1\", \"Topic1\", \"Topic1\", \"Topic1\", \"Topic1\", \"Topic1\", \"Topic1\", \"Topic1\", \"Topic1\", \"Topic1\", \"Topic1\", \"Topic1\", \"Topic1\", \"Topic1\", \"Topic1\", \"Topic1\", \"Topic1\", \"Topic1\", \"Topic1\", \"Topic1\", \"Topic1\", \"Topic1\", \"Topic1\", \"Topic1\", \"Topic1\", \"Topic1\", \"Topic1\", \"Topic1\", \"Topic1\", \"Topic1\", \"Topic1\", \"Topic1\", \"Topic1\", \"Topic2\", \"Topic2\", \"Topic2\", \"Topic2\", \"Topic2\", \"Topic2\", \"Topic2\", \"Topic2\", \"Topic2\", \"Topic2\", \"Topic2\", \"Topic2\", \"Topic2\", \"Topic2\", \"Topic2\", \"Topic2\", \"Topic2\", \"Topic2\", \"Topic2\", \"Topic2\", \"Topic2\", \"Topic2\", \"Topic2\", \"Topic2\", \"Topic2\", \"Topic2\", \"Topic2\", \"Topic2\", \"Topic2\", \"Topic2\", \"Topic2\", \"Topic2\", \"Topic2\", \"Topic2\", \"Topic2\", \"Topic3\", \"Topic3\", \"Topic3\", \"Topic3\", \"Topic3\", \"Topic3\", \"Topic3\", \"Topic3\", \"Topic3\", \"Topic3\", \"Topic3\", \"Topic3\", \"Topic3\", \"Topic3\", \"Topic3\", \"Topic3\", \"Topic3\", \"Topic3\", \"Topic3\", \"Topic3\", \"Topic3\", \"Topic3\", \"Topic3\", \"Topic3\", \"Topic3\", \"Topic3\", \"Topic3\", \"Topic3\", \"Topic3\", \"Topic3\", \"Topic3\", \"Topic3\", \"Topic3\", \"Topic3\", \"Topic4\", \"Topic4\", \"Topic4\", \"Topic4\", \"Topic4\", \"Topic4\", \"Topic4\", \"Topic4\", \"Topic4\", \"Topic4\", \"Topic4\", \"Topic4\", \"Topic4\", \"Topic4\", \"Topic4\", \"Topic4\", \"Topic4\", \"Topic4\", \"Topic4\", \"Topic4\", \"Topic4\", \"Topic4\", \"Topic4\", \"Topic4\", \"Topic4\", \"Topic4\", \"Topic4\", \"Topic4\", \"Topic4\", \"Topic4\", \"Topic4\", \"Topic4\", \"Topic4\", \"Topic5\", \"Topic5\", \"Topic5\", \"Topic5\", \"Topic5\", \"Topic5\", \"Topic5\", \"Topic5\", \"Topic5\", \"Topic5\", \"Topic5\", \"Topic5\", \"Topic5\", \"Topic5\", \"Topic5\", \"Topic5\", \"Topic5\", \"Topic5\", \"Topic5\", \"Topic5\", \"Topic5\", \"Topic5\", \"Topic5\", \"Topic5\", \"Topic5\", \"Topic5\", \"Topic5\", \"Topic5\", \"Topic5\", \"Topic5\", \"Topic5\", \"Topic6\", \"Topic6\", \"Topic6\", \"Topic6\", \"Topic6\", \"Topic6\", \"Topic6\", \"Topic6\", \"Topic6\", \"Topic6\", \"Topic6\", \"Topic6\", \"Topic6\", \"Topic6\", \"Topic6\", \"Topic6\", \"Topic6\", \"Topic6\", \"Topic6\", \"Topic6\", \"Topic6\", \"Topic6\", \"Topic6\", \"Topic6\", \"Topic6\", \"Topic6\", \"Topic6\", \"Topic6\", \"Topic6\", \"Topic6\", \"Topic6\", \"Topic6\", \"Topic6\", \"Topic7\", \"Topic7\", \"Topic7\", \"Topic7\", \"Topic7\", \"Topic7\", \"Topic7\", \"Topic7\", \"Topic7\", \"Topic7\", \"Topic7\", \"Topic7\", \"Topic7\", \"Topic7\", \"Topic7\", \"Topic7\", \"Topic7\", \"Topic7\", \"Topic7\", \"Topic7\", \"Topic7\", \"Topic7\", \"Topic7\", \"Topic7\", \"Topic7\", \"Topic7\", \"Topic7\", \"Topic7\", \"Topic7\", \"Topic7\", \"Topic8\", \"Topic8\", \"Topic8\", \"Topic8\", \"Topic8\", \"Topic8\", \"Topic8\", \"Topic8\", \"Topic8\", \"Topic8\", \"Topic8\", \"Topic8\", \"Topic8\", \"Topic8\", \"Topic8\", \"Topic8\", \"Topic8\", \"Topic8\", \"Topic8\", \"Topic8\", \"Topic8\", \"Topic8\", \"Topic8\", \"Topic8\", \"Topic8\", \"Topic8\", \"Topic8\", \"Topic8\", \"Topic8\", \"Topic8\", \"Topic8\", \"Topic8\", \"Topic9\", \"Topic9\", \"Topic9\", \"Topic9\", \"Topic9\", \"Topic9\", \"Topic9\", \"Topic9\", \"Topic9\", \"Topic9\", \"Topic9\", \"Topic9\", \"Topic9\", \"Topic9\", \"Topic9\", \"Topic9\", \"Topic9\", \"Topic9\", \"Topic9\", \"Topic9\", \"Topic9\", \"Topic9\", \"Topic9\", \"Topic9\", \"Topic9\", \"Topic9\", \"Topic9\", \"Topic9\", \"Topic9\", \"Topic9\", \"Topic10\", \"Topic10\", \"Topic10\", \"Topic10\", \"Topic10\", \"Topic10\", \"Topic10\", \"Topic10\", \"Topic10\", \"Topic10\", \"Topic10\", \"Topic10\", \"Topic10\", \"Topic10\", \"Topic10\", \"Topic10\", \"Topic10\", \"Topic10\", \"Topic10\", \"Topic10\", \"Topic10\", \"Topic10\", \"Topic10\", \"Topic10\", \"Topic10\", \"Topic10\", \"Topic10\", \"Topic10\", \"Topic10\", \"Topic10\", \"Topic10\", \"Topic10\"], \"logprob\": [30.0, 29.0, 28.0, 27.0, 26.0, 25.0, 24.0, 23.0, 22.0, 21.0, 20.0, 19.0, 18.0, 17.0, 16.0, 15.0, 14.0, 13.0, 12.0, 11.0, 10.0, 9.0, 8.0, 7.0, 6.0, 5.0, 4.0, 3.0, 2.0, 1.0, -2.7316, -3.3749, -4.7485, -4.8676, -4.9784, -5.0587, -5.1799, -5.2001, -5.5334, -5.653, -5.6836, -5.7277, -5.8135, -6.06, -6.1233, -6.1236, -6.1644, -6.2572, -6.2888, -6.3854, -6.4076, -6.4357, -6.4699, -6.5621, -6.5921, -6.6174, -6.6353, -6.6726, -6.6779, -6.6989, -0.7157, -1.3168, -5.0793, -4.3355, -4.6871, -5.124, -5.2716, -5.3562, -5.4855, -5.6221, -5.708, -5.7395, -5.7404, -5.8001, -5.8447, -5.931, -5.9912, -6.285, -6.2868, -6.3389, -6.3547, -6.3922, -6.5154, -6.6934, -6.734, -6.7331, -6.8095, -6.8401, -6.8754, -6.922, -6.949, -7.011, -7.0653, -0.4169, -3.9795, -1.9743, -4.7071, -3.1793, -0.8455, -2.3003, -2.8481, -2.8573, -4.4589, -4.7027, -5.1107, -5.8132, -5.9496, -6.0283, -6.0297, -6.0863, -6.1781, -6.2002, -6.5275, -6.6005, -6.6609, -6.8229, -6.8444, -6.8869, -6.8893, -6.9108, -6.9321, -6.9897, -7.0696, -7.0892, -7.1145, -7.1549, -7.2206, -7.2257, -3.9233, -5.454, -1.5118, -4.495, -1.901, -2.7652, -3.1447, -3.1801, -3.4766, -3.9062, -3.9954, -4.0251, -4.0639, -4.1803, -4.3027, -4.3285, -4.3955, -4.4394, -4.5252, -4.5328, -4.6342, -4.6438, -4.6493, -4.6771, -4.7478, -4.8529, -4.8718, -4.9205, -4.9453, -4.9983, -5.0997, -5.1396, -5.1473, -5.1918, -3.5057, -3.8022, -3.5616, -1.4587, -2.4798, -2.7449, -2.8354, -3.8069, -3.8549, -4.22, -4.2959, -4.4199, -4.4989, -4.533, -4.6363, -4.6444, -4.645, -4.702, -4.7504, -4.7981, -4.7999, -4.8271, -4.8702, -5.0338, -5.0885, -5.095, -5.1185, -5.1434, -5.1508, -5.164, -5.2262, -5.2371, -5.2819, -2.4587, -1.6446, -2.0701, -2.8113, -2.8241, -3.4101, -3.4315, -3.4663, -3.6427, -3.7216, -4.0987, -4.2679, -4.2951, -4.447, -4.4596, -4.47, -4.5562, -4.627, -4.7607, -4.8253, -4.8308, -4.9636, -4.9865, -5.0673, -5.0845, -5.1751, -5.1989, -5.2099, -5.2104, -5.2106, -5.2345, -3.8591, -4.3903, -4.8784, -1.9882, -2.5544, -3.3688, -3.4752, -3.6196, -3.9277, -4.0199, -4.1459, -4.1628, -4.1905, -4.2031, -4.2549, -4.3146, -4.3618, -4.3673, -4.5351, -4.5401, -4.6055, -4.6499, -4.6908, -4.6964, -4.6971, -4.7089, -4.773, -3.7347, -4.8048, -4.8101, -4.8337, -4.8446, -4.8889, -1.8626, -2.5367, -2.7497, -3.1396, -3.205, -3.5296, -3.944, -4.073, -4.1567, -4.2285, -4.3781, -4.5645, -4.583, -4.6828, -4.8652, -5.0073, -5.0564, -5.0625, -5.0758, -5.1348, -5.2339, -5.291, -5.2955, -5.3058, -5.425, -5.5768, -5.7398, -5.8294, -5.8567, -5.9472, -2.4855, -1.6896, -3.3414, -3.5619, -3.6168, -3.6328, -3.6718, -3.6905, -3.7123, -3.7278, -3.8069, -3.9448, -3.9998, -4.0001, -4.1396, -4.1657, -4.1958, -4.3279, -4.3289, -4.4245, -4.5193, -4.5209, -4.5239, -4.5912, -4.6157, -4.6251, -4.6292, -4.6676, -4.6692, -4.7187, -4.7253, -4.7398, -1.9385, -2.5041, -2.8424, -3.3909, -3.477, -3.576, -3.6059, -3.8815, -3.8914, -3.9075, -3.9701, -4.0487, -4.104, -4.2102, -4.2163, -4.2211, -4.4916, -4.5148, -4.5823, -4.6726, -4.6897, -4.7106, -4.7186, -4.7559, -4.7777, -4.8287, -4.8318, -4.9734, -5.0061, -5.0244, -2.5885, -4.722], \"loglift\": [30.0, 29.0, 28.0, 27.0, 26.0, 25.0, 24.0, 23.0, 22.0, 21.0, 20.0, 19.0, 18.0, 17.0, 16.0, 15.0, 14.0, 13.0, 12.0, 11.0, 10.0, 9.0, 8.0, 7.0, 6.0, 5.0, 4.0, 3.0, 2.0, 1.0, 2.0176, 2.0174, 2.0163, 2.0161, 2.0159, 2.0158, 2.0155, 2.0155, 2.0145, 2.0141, 2.014, 2.0139, 2.0135, 2.0123, 2.012, 2.012, 2.0117, 2.0112, 2.0109, 2.0102, 2.0101, 2.0099, 2.0096, 2.0088, 2.0085, 2.0083, 2.0081, 2.0078, 2.0077, 2.0075, 1.6826, 0.8075, 0.5087, 2.0604, 2.06, 2.0592, 2.0588, 2.0586, 2.0582, 2.0577, 2.0574, 2.0573, 2.0573, 2.057, 2.0568, 2.0564, 2.0561, 2.0543, 2.0543, 2.0539, 2.0538, 2.0535, 2.0525, 2.0508, 2.0503, 2.0503, 2.0495, 2.0491, 2.0487, 2.0481, 2.0477, 2.0468, 2.046, 1.7074, 1.8785, 1.1842, 1.5839, 1.1755, 2.1426, 2.1425, 2.1424, 2.1424, 2.1414, 2.141, 2.1402, 2.1378, 2.1371, 2.1366, 2.1366, 2.1362, 2.1356, 2.1355, 2.1327, 2.132, 2.1313, 2.1293, 2.1291, 2.1285, 2.1285, 2.1281, 2.1278, 2.127, 2.1257, 2.1253, 2.1249, 2.1242, 2.1229, 2.1228, 1.9476, 1.974, 0.8866, 1.0099, 2.3325, 2.3324, 2.3322, 2.3322, 2.3321, 2.3318, 2.3317, 2.3317, 2.3317, 2.3315, 2.3314, 2.3314, 2.3313, 2.3312, 2.3311, 2.3311, 2.3309, 2.3309, 2.3309, 2.3308, 2.3307, 2.3305, 2.3305, 2.3303, 2.3303, 2.3302, 2.3299, 2.3298, 2.3298, 2.3296, 2.0822, 2.0622, 1.9433, 2.3587, 2.3586, 2.3585, 2.3585, 2.3581, 2.358, 2.3577, 2.3576, 2.3574, 2.3573, 2.3573, 2.3571, 2.3571, 2.3571, 2.357, 2.3569, 2.3568, 2.3568, 2.3567, 2.3567, 2.3563, 2.3561, 2.3561, 2.356, 2.356, 2.356, 2.3559, 2.3557, 2.3557, 2.3556, 0.6998, 2.3831, 2.3831, 2.3829, 2.3829, 2.3827, 2.3826, 2.3826, 2.3825, 2.3825, 2.3821, 2.3819, 2.3819, 2.3817, 2.3816, 2.3816, 2.3815, 2.3813, 2.3811, 2.3809, 2.3809, 2.3806, 2.3805, 2.3803, 2.3803, 2.38, 2.3799, 2.3799, 2.3799, 2.3799, 2.3798, 2.1261, 1.9902, 1.4126, 2.391, 2.3909, 2.3907, 2.3906, 2.3905, 2.3903, 2.3902, 2.39, 2.39, 2.39, 2.3899, 2.3899, 2.3898, 2.3898, 2.3898, 2.3895, 2.3895, 2.3894, 2.3893, 2.3892, 2.3892, 2.3892, 2.3892, 2.3891, 2.3891, 2.389, 2.389, 2.3889, 2.3889, 2.3888, 2.401, 2.4009, 2.4008, 2.4007, 2.4007, 2.4005, 2.4002, 2.4001, 2.4, 2.3999, 2.3997, 2.3994, 2.3994, 2.3992, 2.3988, 2.3984, 2.3983, 2.3983, 2.3982, 2.3981, 2.3978, 2.3976, 2.3975, 2.3975, 2.397, 2.3964, 2.3955, 2.395, 2.3949, 2.3943, 1.8693, 1.4689, 2.5126, 2.5125, 2.5124, 2.5124, 2.5124, 2.5124, 2.5124, 2.5124, 2.5123, 2.5122, 2.5121, 2.5121, 2.5119, 2.5119, 2.5119, 2.5117, 2.5117, 2.5115, 2.5114, 2.5114, 2.5114, 2.5113, 2.5112, 2.5112, 2.5112, 2.5111, 2.5111, 2.511, 2.511, 2.511, 2.5842, 2.5841, 2.584, 2.5837, 2.5837, 2.5836, 2.5836, 2.5833, 2.5833, 2.5833, 2.5832, 2.5831, 2.5831, 2.5829, 2.5829, 2.5829, 2.5824, 2.5824, 2.5822, 2.582, 2.582, 2.582, 2.5819, 2.5818, 2.5818, 2.5817, 2.5816, 2.5812, 2.5811, 2.5811, 2.5485, 1.1424]}, \"token.table\": {\"Topic\": [2, 1, 2, 8, 6, 5, 3, 6, 4, 5, 2, 9, 4, 5, 5, 1, 3, 1, 6, 9, 5, 1, 1, 4, 4, 3, 7, 5, 4, 2, 10, 8, 9, 6, 9, 4, 4, 4, 10, 8, 2, 1, 2, 9, 9, 5, 2, 10, 4, 1, 8, 4, 7, 8, 8, 8, 4, 7, 10, 1, 10, 6, 8, 1, 3, 6, 5, 2, 4, 9, 1, 2, 3, 4, 5, 6, 7, 9, 10, 5, 4, 3, 5, 2, 3, 3, 3, 7, 4, 5, 9, 1, 3, 9, 1, 9, 2, 2, 1, 10, 3, 6, 1, 9, 2, 10, 7, 2, 5, 5, 3, 7, 4, 9, 10, 4, 1, 5, 2, 3, 6, 1, 2, 6, 4, 1, 2, 10, 6, 5, 9, 6, 3, 8, 8, 10, 7, 6, 9, 2, 9, 4, 9, 4, 5, 4, 7, 7, 7, 5, 8, 10, 6, 6, 10, 7, 6, 5, 8, 2, 9, 7, 6, 10, 8, 1, 7, 7, 8, 1, 4, 2, 4, 6, 7, 10, 5, 8, 4, 10, 6, 9, 2, 6, 10, 3, 3, 9, 2, 6, 9, 8, 8, 5, 3, 8, 6, 5, 8, 2, 7, 2, 6, 4, 9, 3, 4, 6, 3, 4, 2, 8, 9, 6, 5, 2, 6, 2, 5, 10, 2, 7, 8, 7, 3, 5, 9, 2, 8, 3, 9, 1, 1, 3, 2, 3, 4, 10, 7, 2, 5, 8, 10, 3, 10, 2, 4, 8, 1, 5, 3, 2, 9, 7, 8, 3, 3, 3, 6, 10, 4, 10, 7, 9, 1, 4, 7, 9, 7, 6, 1, 6, 8, 5, 5, 9, 3, 4, 8, 10, 10, 8, 10, 7, 2, 4, 8, 6, 8, 6, 1, 1, 10, 1, 3, 3, 4, 6, 7, 7, 3, 3, 5, 1, 1, 8, 6, 9, 10, 7, 10, 1, 5, 1, 8, 7, 2, 4, 1, 4, 7, 9, 7, 6, 9, 2, 1, 6, 10, 5, 10, 10, 8, 7, 3, 3, 6], \"Freq\": [0.9848554194794049, 0.9948683066074624, 0.9920876698405875, 0.9987347209379955, 0.9998149475292037, 0.9985172944439835, 0.9896023572472177, 0.9966316842063692, 0.9988730437045568, 0.9999026214747486, 0.9975580266990807, 0.9983426374823812, 0.9998510606583804, 0.9972348292401629, 0.9971890745007151, 0.999678560646064, 0.9902531611657884, 0.9946935569329954, 0.7734038443209365, 0.2263762945378813, 0.9997744352191467, 0.9974771955096197, 0.9876035289409473, 0.9996256698292781, 0.9982874242334647, 0.9983685071546315, 0.9983590852276283, 0.9969705188987299, 0.9988856410427479, 0.9949725710902748, 0.9974569658620752, 0.9972762172022065, 0.9985559456707745, 0.9982717725754461, 0.9993815417301832, 0.9991570900639283, 0.9979405024921096, 0.9991956308691885, 0.9979720880620992, 0.9991429207786989, 0.9954808952696883, 0.994289574324562, 0.9955182378273927, 0.9990532814421776, 0.9976307557889317, 0.9983653427834426, 0.9804925091771761, 0.997453333906231, 0.9994770324109253, 0.9986788677629628, 0.9964749782251701, 0.9991266039263332, 0.9986793016025892, 0.9985399844396277, 0.9958226093243694, 0.9988901106024856, 0.9986408056502633, 0.9968875307804709, 0.998916403998527, 0.9970036645061587, 0.9994655135281301, 0.998890431715658, 0.9985646000724024, 0.9948960378415093, 0.9996601592420064, 0.9979343380731804, 0.9983714807716275, 0.8327808700839575, 0.16655617401679151, 0.9979613995210294, 0.9948588981608538, 0.0002491809425348403, 0.0004983618850696806, 0.0004983618850696806, 0.01619676126476462, 0.013455770896881377, 0.0037377141380226047, 0.0004983618850696806, 0.9648286094949017, 0.99842995139802, 0.9986196047258464, 0.9931377858082393, 0.9980575647787178, 0.9972597128276712, 0.9927205465402275, 0.9946947927948431, 0.9806934426714201, 0.9993681325280842, 0.99612532491914, 0.9972903969656501, 0.9979933385840911, 0.9997318150795629, 0.9819968483469329, 0.9983812576715707, 0.9953494986572857, 0.9995703882211971, 0.9945852837487031, 0.9969375981396795, 0.9976570342891545, 0.9987915039810573, 0.9990226531602221, 0.9980618164536496, 0.9946584654546907, 0.9995912599395091, 0.9926501293511246, 0.9976155788625135, 0.997271903847312, 0.9964370358827167, 0.9971376314712987, 0.9989207071307462, 0.9998004070539802, 0.9986038785610958, 0.9971978600196233, 0.9982839922520067, 0.9984346325934957, 0.9979711567879903, 0.9976543754746416, 0.9991328060231156, 0.9950640581396681, 0.9839496356562896, 0.99612367133684, 0.29812742723241376, 0.7018495630461401, 0.9998069194308585, 0.9992430596473983, 0.9940796392454305, 0.9929270260352386, 0.9998878060540346, 0.9966980187223663, 0.9984187113789449, 0.9990845006913164, 0.9957310414450321, 0.9865492939599901, 0.9941026131794816, 0.999158336782624, 0.9982171727336457, 0.9993688871786849, 0.9972129298337186, 0.9986051101873795, 0.9933929715485222, 0.9984963357364608, 0.999534393544529, 0.9979562118023975, 0.9984259076954723, 0.999049729259528, 0.9995824074134496, 0.9988539241376693, 0.9983252227284747, 0.99808391657795, 0.9960820659482023, 0.9957689172058704, 0.998658909937491, 0.9965862674481756, 0.9972960659212672, 0.9990327668662294, 0.9980996297115675, 0.9992943413642364, 0.9997584064416688, 0.993429604744981, 0.9966455999449998, 0.9991359602246637, 0.9990711552244353, 0.9996245306370029, 0.9986957034265908, 0.9991307793933952, 0.9946150938716901, 0.9985017382375324, 0.9976702461614971, 0.9994215001126205, 0.9918499207151797, 0.9984825487031992, 0.9902144355455096, 0.0006684845287683428, 0.0006684845287683428, 0.9980474014511359, 0.9970583911410708, 0.9973420288819214, 0.9998664941233593, 0.7627811570713472, 0.2362094455298695, 0.999440397959652, 0.9988854918547101, 0.9876249510981983, 0.9968651653045013, 0.9980874181066112, 0.999971476192013, 0.9922613984841172, 0.9984344737954138, 0.9955563551747666, 0.9965335130101068, 0.9982546484517892, 0.9972306699986906, 0.9948332955023378, 0.9987955378569954, 0.8448842107396737, 0.1527195949441976, 0.9971314049732354, 0.9962343470917927, 0.996802726241255, 0.9949795512622168, 0.9992543935953181, 0.6202678827701805, 0.3784819310151802, 0.9967492869089138, 0.9982775167048547, 0.3221989791424084, 0.6775178533475001, 0.9995981129532328, 0.9947451569747747, 0.998520459417009, 0.98910578016605, 0.9944036898341208, 0.997882195502604, 0.9994111396191472, 0.9985288391392706, 0.9896718724725116, 0.9988842838642537, 0.9812768192372703, 0.9975600919332681, 0.9990808748121405, 0.9986304300048949, 0.9978084423548103, 0.9981405806108812, 0.999846133338528, 0.9881820188478658, 0.9997361455880729, 0.9984599208020271, 0.41237494124139656, 0.5875602051131562, 0.9796609694686563, 0.9988956385107362, 0.9873179681653067, 0.7152108147341426, 0.28477284022495486, 0.9814203431257246, 0.9750267697147905, 0.9986215994233448, 0.9991164967870639, 0.9987646882166105, 0.4159313378728667, 0.19034087568633218, 0.3937065252700998, 0.9982690306962262, 0.9933550456875155, 0.9982645713987495, 0.9985986648382507, 0.9985027875158308, 0.9942430230582153, 0.9980532786416356, 0.9964818240091441, 0.9878510838354149, 0.9915193440702764, 0.998985224052123, 0.9986886118044975, 0.9973097934875264, 0.9966153981279235, 0.9914478627694912, 0.8228195237805328, 0.1765038726090733, 0.9977424837405121, 0.9981124983658836, 0.9981396462536025, 0.9993625217572818, 0.9993136175351952, 0.22101934175863297, 0.7784575046012029, 0.9992543436598496, 0.9990613920947886, 0.9976447232717977, 0.999850157730987, 0.9939832255885145, 0.9998737523999449, 0.9953750837389822, 0.9982260559339682, 0.9968036872360344, 0.9991512438017859, 0.9879897912779361, 0.9987642091403931, 0.9971855962188788, 0.9984892526044726, 0.9971786811158543, 0.9986429743771146, 0.9986882578969551, 0.9984835210131031, 0.9944110725281871, 0.9967383716762596, 0.9995436260911368, 0.9995091746455324, 0.9977179363556725, 0.9985149107766493, 0.9887007946705304, 0.9906800848472036, 0.9996536812106689, 0.9941720086701146, 0.9997366564492749, 0.9867650629021527, 0.998234045831693, 0.6749328998205127, 0.3240714947921796, 0.9996716890841244, 0.9951723161604834, 0.9868886422335867, 0.9962595242193102, 0.9966755869195789, 0.9883177376147576, 0.9989595073308097, 0.9967728046568247, 0.9972415158661777, 0.9965252204747873, 0.9993095611616908, 0.9994672575234511, 0.9910377552062998, 0.9975764253535071, 0.9931862448228282, 0.999782023299038, 0.9982802254477763, 0.9935432795879106, 0.9959912410053107, 0.9977375514437674, 0.9994923548561614, 0.9989429683496442, 0.9978829376223035, 0.9983531691164065, 0.998633858991708, 0.9994800078421646, 0.9966819408911906, 0.9978538065683886, 0.9984080598320879, 0.9991908741704099, 0.996769578402107, 0.9991383082901087, 0.9970572793341372, 0.999855743809735, 0.9987769622614052, 0.982525052523393, 0.9851010708684319, 0.998676593769235], \"Term\": [\"2nd\", \"able\", \"accessory\", \"affordable\", \"amazing\", \"app\", \"area\", \"available\", \"average\", \"awesome\", \"awsome\", \"baby\", \"bad\", \"basic\", \"battery\", \"beautiful\", \"behaviour\", \"belt\", \"big\", \"big\", \"bit\", \"book\", \"bottom\", \"bowl\", \"box\", \"boy\", \"brand\", \"break\", \"broken\", \"bt\", \"budget\", \"build\", \"button\", \"buy\", \"camera\", \"card\", \"care\", \"cello\", \"chair\", \"cheap\", \"child\", \"choice\", \"class\", \"classy\", \"clean\", \"cloth\", \"collection\", \"color\", \"colour\", \"comfortable\", \"compact\", \"company\", \"condition\", \"cool\", \"corner\", \"cost\", \"customer\", \"daily\", \"damage\", \"date\", \"day\", \"deal\", \"decent\", \"defective\", \"delivery\", \"demo\", \"description\", \"design\", \"design\", \"device\", \"different\", \"dinner\", \"dinner\", \"dinner\", \"dinner\", \"dinner\", \"dinner\", \"dinner\", \"dinner\", \"disappointed\", \"dish\", \"door\", \"doubt\", \"due\", \"durability\", \"durable\", \"early\", \"easy\", \"edge\", \"elegant\", \"enough\", \"excellent\", \"exellent\", \"expectation\", \"expensive\", \"experience\", \"fabric\", \"fabulous\", \"family\", \"fantastic\", \"fast\", \"feature\", \"filpkart\", \"fine\", \"finish\", \"first\", \"fit\", \"fitting\", \"flip\", \"flipcart\", \"flipkart\", \"food\", \"free\", \"friendly\", \"full\", \"gb\", \"genuine\", \"gift\", \"gifted\", \"gifting\", \"glass\", \"good\", \"good\", \"great\", \"guy\", \"half\", \"hand\", \"happy\", \"heat\", \"heating\", \"heavy\", \"height\", \"help\", \"hero\", \"high\", \"home\", \"hot\", \"hour\", \"image\", \"impressive\", \"inch\", \"installation\", \"inverter\", \"iron\", \"issue\", \"item\", \"job\", \"juice\", \"juicer\", \"kart\", \"kid\", \"laptop\", \"large\", \"last\", \"leg\", \"less\", \"light\", \"little\", \"local\", \"long\", \"look\", \"lot\", \"love\", \"lovely\", \"low\", \"main\", \"many\", \"market\", \"material\", \"member\", \"memory\", \"meterial\", \"microwave\", \"microwave\", \"microwave\", \"mind\", \"model\", \"money\", \"month\", \"month\", \"much\", \"need\", \"negative\", \"new\", \"next\", \"nice\", \"night\", \"normal\", \"office\", \"ok\", \"old\", \"one\", \"online\", \"option\", \"order\", \"order\", \"original\", \"osam\", \"osm\", \"outstanding\", \"oven\", \"overall\", \"overall\", \"pack\", \"package\", \"packaging\", \"packaging\", \"packing\", \"pant\", \"part\", \"pc\", \"penny\", \"people\", \"perfect\", \"performance\", \"period\", \"person\", \"personal\", \"pic\", \"picture\", \"piece\", \"plant\", \"plastic\", \"plate\", \"polite\", \"poor\", \"premium\", \"price\", \"price\", \"pricing\", \"problem\", \"process\", \"product\", \"product\", \"productgo\", \"prompt\", \"proper\", \"purchase\", \"purpose\", \"quality\", \"quality\", \"quality\", \"quantity\", \"quick\", \"r\", \"range\", \"rate\", \"real\", \"reasonable\", \"regular\", \"response\", \"result\", \"review\", \"rice\", \"room\", \"safe\", \"satisfactory\", \"satisfied\", \"satisfied\", \"scratch\", \"screw\", \"second\", \"seed\", \"seller\", \"service\", \"service\", \"set\", \"side\", \"simple\", \"size\", \"slow\", \"small\", \"smooth\", \"soft\", \"sound\", \"space\", \"special\", \"speed\", \"standard\", \"star\", \"storage\", \"strong\", \"study\", \"sturdy\", \"stylish\", \"suitable\", \"super\", \"superb\", \"supper\", \"support\", \"surface\", \"system\", \"table\", \"technician\", \"thank\", \"thanx\", \"thin\", \"thing\", \"thing\", \"time\", \"timely\", \"tnx\", \"today\", \"top\", \"total\", \"tv\", \"type\", \"unit\", \"usage\", \"use\", \"useful\", \"useless\", \"user\", \"valuable\", \"value\", \"video\", \"view\", \"wall\", \"waste\", \"watch\", \"water\", \"way\", \"week\", \"weight\", \"well\", \"wifi\", \"wise\", \"wonderful\", \"wood\", \"word\", \"work\", \"working\", \"worth\", \"worthy\", \"writing\", \"wrong\", \"year\"]}, \"R\": 30, \"lambda.step\": 0.01, \"plot.opts\": {\"xlab\": \"PC1\", \"ylab\": \"PC2\"}, \"topic.order\": [4, 1, 2, 3, 6, 5, 8, 7, 10, 9]};\n",
              "\n",
              "function LDAvis_load_lib(url, callback){\n",
              "  var s = document.createElement('script');\n",
              "  s.src = url;\n",
              "  s.async = true;\n",
              "  s.onreadystatechange = s.onload = callback;\n",
              "  s.onerror = function(){console.warn(\"failed to load library \" + url);};\n",
              "  document.getElementsByTagName(\"head\")[0].appendChild(s);\n",
              "}\n",
              "\n",
              "if(typeof(LDAvis) !== \"undefined\"){\n",
              "   // already loaded: just create the visualization\n",
              "   !function(LDAvis){\n",
              "       new LDAvis(\"#\" + \"ldavis_el1431406276872198242875172981\", ldavis_el1431406276872198242875172981_data);\n",
              "   }(LDAvis);\n",
              "}else if(typeof define === \"function\" && define.amd){\n",
              "   // require.js is available: use it to load d3/LDAvis\n",
              "   require.config({paths: {d3: \"https://d3js.org/d3.v5\"}});\n",
              "   require([\"d3\"], function(d3){\n",
              "      window.d3 = d3;\n",
              "      LDAvis_load_lib(\"https://cdn.jsdelivr.net/gh/bmabey/pyLDAvis@3.4.0/pyLDAvis/js/ldavis.v3.0.0.js\", function(){\n",
              "        new LDAvis(\"#\" + \"ldavis_el1431406276872198242875172981\", ldavis_el1431406276872198242875172981_data);\n",
              "      });\n",
              "    });\n",
              "}else{\n",
              "    // require.js not available: dynamically load d3 & LDAvis\n",
              "    LDAvis_load_lib(\"https://d3js.org/d3.v5.js\", function(){\n",
              "         LDAvis_load_lib(\"https://cdn.jsdelivr.net/gh/bmabey/pyLDAvis@3.4.0/pyLDAvis/js/ldavis.v3.0.0.js\", function(){\n",
              "                 new LDAvis(\"#\" + \"ldavis_el1431406276872198242875172981\", ldavis_el1431406276872198242875172981_data);\n",
              "            })\n",
              "         });\n",
              "}\n",
              "</script>"
            ]
          },
          "metadata": {},
          "execution_count": 23
        }
      ]
    },
    {
      "cell_type": "code",
      "source": [
        "x = lda_model[matrix]"
      ],
      "metadata": {
        "colab": {
          "base_uri": "https://localhost:8080/"
        },
        "id": "j8aJshDPH_9s",
        "outputId": "ccea9872-be5d-468b-82b4-dafbd7b46887"
      },
      "execution_count": 152,
      "outputs": [
        {
          "output_type": "stream",
          "name": "stderr",
          "text": [
            "/usr/local/lib/python3.9/dist-packages/ipykernel/ipkernel.py:283: DeprecationWarning: `should_run_async` will not call `transform_cell` automatically in the future. Please pass the result to `transformed_cell` argument and any exception that happen during thetransform in `preprocessing_exc_tuple` in IPython 7.17 and above.\n",
            "  and should_run_async(code)\n"
          ]
        }
      ]
    },
    {
      "cell_type": "code",
      "source": [
        "prob_list = []\n",
        "\n",
        "for i in x:\n",
        "  temp = []\n",
        "  for a,b in i:\n",
        "    temp.append(b)\n",
        "  prob_list.append(temp)"
      ],
      "metadata": {
        "colab": {
          "base_uri": "https://localhost:8080/"
        },
        "id": "Yfu5KcD1IDnx",
        "outputId": "11262c11-2e0b-45c2-ade5-b50736ae8d3a"
      },
      "execution_count": 153,
      "outputs": [
        {
          "output_type": "stream",
          "name": "stderr",
          "text": [
            "/usr/local/lib/python3.9/dist-packages/ipykernel/ipkernel.py:283: DeprecationWarning: `should_run_async` will not call `transform_cell` automatically in the future. Please pass the result to `transformed_cell` argument and any exception that happen during thetransform in `preprocessing_exc_tuple` in IPython 7.17 and above.\n",
            "  and should_run_async(code)\n"
          ]
        }
      ]
    },
    {
      "cell_type": "code",
      "source": [
        "topics_list = []\n",
        "for i in prob_list:\n",
        "  topics_list.append(np.argmax(i))\n",
        "\n",
        "new_df['topic'] = topics_list"
      ],
      "metadata": {
        "colab": {
          "base_uri": "https://localhost:8080/"
        },
        "id": "au8PmsLOKPMQ",
        "outputId": "10a4827b-0b14-4c9f-dd4b-2a6ffc025b67"
      },
      "execution_count": 154,
      "outputs": [
        {
          "output_type": "stream",
          "name": "stderr",
          "text": [
            "/usr/local/lib/python3.9/dist-packages/ipykernel/ipkernel.py:283: DeprecationWarning: `should_run_async` will not call `transform_cell` automatically in the future. Please pass the result to `transformed_cell` argument and any exception that happen during thetransform in `preprocessing_exc_tuple` in IPython 7.17 and above.\n",
            "  and should_run_async(code)\n"
          ]
        }
      ]
    },
    {
      "cell_type": "code",
      "source": [
        "new_df.head()"
      ],
      "metadata": {
        "colab": {
          "base_uri": "https://localhost:8080/",
          "height": 254
        },
        "id": "CWbUlgK5QMF5",
        "outputId": "d905944d-50ab-4677-ca50-f2a2f4f3bd74"
      },
      "execution_count": 155,
      "outputs": [
        {
          "output_type": "stream",
          "name": "stderr",
          "text": [
            "/usr/local/lib/python3.9/dist-packages/ipykernel/ipkernel.py:283: DeprecationWarning: `should_run_async` will not call `transform_cell` automatically in the future. Please pass the result to `transformed_cell` argument and any exception that happen during thetransform in `preprocessing_exc_tuple` in IPython 7.17 and above.\n",
            "  and should_run_async(code)\n"
          ]
        },
        {
          "output_type": "execute_result",
          "data": {
            "text/plain": [
              "                                        product_name product_price Rate  \\\n",
              "0  Candes 12 L Room/Personal Air Cooler??????(Whi...          3999    5   \n",
              "1  Candes 12 L Room/Personal Air Cooler??????(Whi...          3999    5   \n",
              "2  Candes 12 L Room/Personal Air Cooler??????(Whi...          3999    3   \n",
              "3  Candes 12 L Room/Personal Air Cooler??????(Whi...          3999    1   \n",
              "4  Candes 12 L Room/Personal Air Cooler??????(Whi...          3999    3   \n",
              "\n",
              "            Review                                            Summary  \\\n",
              "0           super!  great cooler excellent air flow and for this p...   \n",
              "1          awesome              best budget 2 fit cooler nice cooling   \n",
              "2             fair  the quality is good but the power of air is de...   \n",
              "3  useless product                  very bad product its a only a fan   \n",
              "4             fair                                      ok ok product   \n",
              "\n",
              "  Sentiment  topic  \n",
              "0  positive      4  \n",
              "1  positive      8  \n",
              "2  positive      7  \n",
              "3  negative      2  \n",
              "4   neutral      3  "
            ],
            "text/html": [
              "\n",
              "  <div id=\"df-27e6fe7c-22ec-4fb6-8546-f6d0653d2eb0\">\n",
              "    <div class=\"colab-df-container\">\n",
              "      <div>\n",
              "<style scoped>\n",
              "    .dataframe tbody tr th:only-of-type {\n",
              "        vertical-align: middle;\n",
              "    }\n",
              "\n",
              "    .dataframe tbody tr th {\n",
              "        vertical-align: top;\n",
              "    }\n",
              "\n",
              "    .dataframe thead th {\n",
              "        text-align: right;\n",
              "    }\n",
              "</style>\n",
              "<table border=\"1\" class=\"dataframe\">\n",
              "  <thead>\n",
              "    <tr style=\"text-align: right;\">\n",
              "      <th></th>\n",
              "      <th>product_name</th>\n",
              "      <th>product_price</th>\n",
              "      <th>Rate</th>\n",
              "      <th>Review</th>\n",
              "      <th>Summary</th>\n",
              "      <th>Sentiment</th>\n",
              "      <th>topic</th>\n",
              "    </tr>\n",
              "  </thead>\n",
              "  <tbody>\n",
              "    <tr>\n",
              "      <th>0</th>\n",
              "      <td>Candes 12 L Room/Personal Air Cooler??????(Whi...</td>\n",
              "      <td>3999</td>\n",
              "      <td>5</td>\n",
              "      <td>super!</td>\n",
              "      <td>great cooler excellent air flow and for this p...</td>\n",
              "      <td>positive</td>\n",
              "      <td>4</td>\n",
              "    </tr>\n",
              "    <tr>\n",
              "      <th>1</th>\n",
              "      <td>Candes 12 L Room/Personal Air Cooler??????(Whi...</td>\n",
              "      <td>3999</td>\n",
              "      <td>5</td>\n",
              "      <td>awesome</td>\n",
              "      <td>best budget 2 fit cooler nice cooling</td>\n",
              "      <td>positive</td>\n",
              "      <td>8</td>\n",
              "    </tr>\n",
              "    <tr>\n",
              "      <th>2</th>\n",
              "      <td>Candes 12 L Room/Personal Air Cooler??????(Whi...</td>\n",
              "      <td>3999</td>\n",
              "      <td>3</td>\n",
              "      <td>fair</td>\n",
              "      <td>the quality is good but the power of air is de...</td>\n",
              "      <td>positive</td>\n",
              "      <td>7</td>\n",
              "    </tr>\n",
              "    <tr>\n",
              "      <th>3</th>\n",
              "      <td>Candes 12 L Room/Personal Air Cooler??????(Whi...</td>\n",
              "      <td>3999</td>\n",
              "      <td>1</td>\n",
              "      <td>useless product</td>\n",
              "      <td>very bad product its a only a fan</td>\n",
              "      <td>negative</td>\n",
              "      <td>2</td>\n",
              "    </tr>\n",
              "    <tr>\n",
              "      <th>4</th>\n",
              "      <td>Candes 12 L Room/Personal Air Cooler??????(Whi...</td>\n",
              "      <td>3999</td>\n",
              "      <td>3</td>\n",
              "      <td>fair</td>\n",
              "      <td>ok ok product</td>\n",
              "      <td>neutral</td>\n",
              "      <td>3</td>\n",
              "    </tr>\n",
              "  </tbody>\n",
              "</table>\n",
              "</div>\n",
              "      <button class=\"colab-df-convert\" onclick=\"convertToInteractive('df-27e6fe7c-22ec-4fb6-8546-f6d0653d2eb0')\"\n",
              "              title=\"Convert this dataframe to an interactive table.\"\n",
              "              style=\"display:none;\">\n",
              "        \n",
              "  <svg xmlns=\"http://www.w3.org/2000/svg\" height=\"24px\"viewBox=\"0 0 24 24\"\n",
              "       width=\"24px\">\n",
              "    <path d=\"M0 0h24v24H0V0z\" fill=\"none\"/>\n",
              "    <path d=\"M18.56 5.44l.94 2.06.94-2.06 2.06-.94-2.06-.94-.94-2.06-.94 2.06-2.06.94zm-11 1L8.5 8.5l.94-2.06 2.06-.94-2.06-.94L8.5 2.5l-.94 2.06-2.06.94zm10 10l.94 2.06.94-2.06 2.06-.94-2.06-.94-.94-2.06-.94 2.06-2.06.94z\"/><path d=\"M17.41 7.96l-1.37-1.37c-.4-.4-.92-.59-1.43-.59-.52 0-1.04.2-1.43.59L10.3 9.45l-7.72 7.72c-.78.78-.78 2.05 0 2.83L4 21.41c.39.39.9.59 1.41.59.51 0 1.02-.2 1.41-.59l7.78-7.78 2.81-2.81c.8-.78.8-2.07 0-2.86zM5.41 20L4 18.59l7.72-7.72 1.47 1.35L5.41 20z\"/>\n",
              "  </svg>\n",
              "      </button>\n",
              "      \n",
              "  <style>\n",
              "    .colab-df-container {\n",
              "      display:flex;\n",
              "      flex-wrap:wrap;\n",
              "      gap: 12px;\n",
              "    }\n",
              "\n",
              "    .colab-df-convert {\n",
              "      background-color: #E8F0FE;\n",
              "      border: none;\n",
              "      border-radius: 50%;\n",
              "      cursor: pointer;\n",
              "      display: none;\n",
              "      fill: #1967D2;\n",
              "      height: 32px;\n",
              "      padding: 0 0 0 0;\n",
              "      width: 32px;\n",
              "    }\n",
              "\n",
              "    .colab-df-convert:hover {\n",
              "      background-color: #E2EBFA;\n",
              "      box-shadow: 0px 1px 2px rgba(60, 64, 67, 0.3), 0px 1px 3px 1px rgba(60, 64, 67, 0.15);\n",
              "      fill: #174EA6;\n",
              "    }\n",
              "\n",
              "    [theme=dark] .colab-df-convert {\n",
              "      background-color: #3B4455;\n",
              "      fill: #D2E3FC;\n",
              "    }\n",
              "\n",
              "    [theme=dark] .colab-df-convert:hover {\n",
              "      background-color: #434B5C;\n",
              "      box-shadow: 0px 1px 3px 1px rgba(0, 0, 0, 0.15);\n",
              "      filter: drop-shadow(0px 1px 2px rgba(0, 0, 0, 0.3));\n",
              "      fill: #FFFFFF;\n",
              "    }\n",
              "  </style>\n",
              "\n",
              "      <script>\n",
              "        const buttonEl =\n",
              "          document.querySelector('#df-27e6fe7c-22ec-4fb6-8546-f6d0653d2eb0 button.colab-df-convert');\n",
              "        buttonEl.style.display =\n",
              "          google.colab.kernel.accessAllowed ? 'block' : 'none';\n",
              "\n",
              "        async function convertToInteractive(key) {\n",
              "          const element = document.querySelector('#df-27e6fe7c-22ec-4fb6-8546-f6d0653d2eb0');\n",
              "          const dataTable =\n",
              "            await google.colab.kernel.invokeFunction('convertToInteractive',\n",
              "                                                     [key], {});\n",
              "          if (!dataTable) return;\n",
              "\n",
              "          const docLinkHtml = 'Like what you see? Visit the ' +\n",
              "            '<a target=\"_blank\" href=https://colab.research.google.com/notebooks/data_table.ipynb>data table notebook</a>'\n",
              "            + ' to learn more about interactive tables.';\n",
              "          element.innerHTML = '';\n",
              "          dataTable['output_type'] = 'display_data';\n",
              "          await google.colab.output.renderOutput(dataTable, element);\n",
              "          const docLink = document.createElement('div');\n",
              "          docLink.innerHTML = docLinkHtml;\n",
              "          element.appendChild(docLink);\n",
              "        }\n",
              "      </script>\n",
              "    </div>\n",
              "  </div>\n",
              "  "
            ]
          },
          "metadata": {},
          "execution_count": 155
        }
      ]
    },
    {
      "cell_type": "code",
      "source": [
        "new_df.Sentiment.replace({'positive':2, 'neutral': 1, 'negative': 0}, inplace = True)"
      ],
      "metadata": {
        "colab": {
          "base_uri": "https://localhost:8080/"
        },
        "id": "NtNvvMXVRShL",
        "outputId": "547c9cfd-ba58-40c3-a49c-ed8da6beba16"
      },
      "execution_count": 156,
      "outputs": [
        {
          "output_type": "stream",
          "name": "stderr",
          "text": [
            "/usr/local/lib/python3.9/dist-packages/ipykernel/ipkernel.py:283: DeprecationWarning: `should_run_async` will not call `transform_cell` automatically in the future. Please pass the result to `transformed_cell` argument and any exception that happen during thetransform in `preprocessing_exc_tuple` in IPython 7.17 and above.\n",
            "  and should_run_async(code)\n"
          ]
        }
      ]
    },
    {
      "cell_type": "code",
      "source": [
        "clusterwise_dist = {}\n",
        "\n",
        "for topic in new_df.topic.unique():\n",
        "  temp_df = new_df[new_df.topic == topic]\n",
        "  if topic not in clusterwise_dist.keys():\n",
        "    clusterwise_dist[topic] = {}\n",
        "  clusterwise_dist[topic][0] = round(temp_df.Sentiment.value_counts()[0]/len(temp_df), 2)\n",
        "  clusterwise_dist[topic][1] = round(temp_df.Sentiment.value_counts()[1]/len(temp_df), 2)\n",
        "  clusterwise_dist[topic][2] = round(temp_df.Sentiment.value_counts()[2]/len(temp_df),2)\n",
        "print(clusterwise_dist)\n",
        "\n",
        "sentimentwise_dist = {}\n",
        "\n",
        "for topic in new_df.topic.unique():\n",
        "  temp_df = new_df[new_df.topic == topic]\n",
        "  if topic not in sentimentwise_dist.keys():\n",
        "    sentimentwise_dist[topic] = {}\n",
        "  sentimentwise_dist[topic][0] = round(temp_df.Sentiment.value_counts()[0]/new_df.Sentiment.value_counts()[0], 2)\n",
        "  sentimentwise_dist[topic][1] = round(temp_df.Sentiment.value_counts()[1]/new_df.Sentiment.value_counts()[1], 2)\n",
        "  sentimentwise_dist[topic][2] = round(temp_df.Sentiment.value_counts()[2]/new_df.Sentiment.value_counts()[2], 2)\n",
        "print(sentimentwise_dist)"
      ],
      "metadata": {
        "colab": {
          "base_uri": "https://localhost:8080/"
        },
        "id": "O2kq3nRtQPcY",
        "outputId": "daf554bc-0827-4a92-88e4-224b584d90bb"
      },
      "execution_count": 159,
      "outputs": [
        {
          "output_type": "stream",
          "name": "stderr",
          "text": [
            "/usr/local/lib/python3.9/dist-packages/ipykernel/ipkernel.py:283: DeprecationWarning: `should_run_async` will not call `transform_cell` automatically in the future. Please pass the result to `transformed_cell` argument and any exception that happen during thetransform in `preprocessing_exc_tuple` in IPython 7.17 and above.\n",
            "  and should_run_async(code)\n"
          ]
        },
        {
          "output_type": "stream",
          "name": "stdout",
          "text": [
            "{4: {0: 0.13, 1: 0.09, 2: 0.78}, 8: {0: 0.16, 1: 0.05, 2: 0.79}, 7: {0: 0.28, 1: 0.09, 2: 0.63}, 2: {0: 0.55, 1: 0.1, 2: 0.35}, 3: {0: 0.09, 1: 0.03, 2: 0.88}, 1: {0: 0.03, 1: 0.01, 2: 0.97}, 0: {0: 0.07, 1: 0.06, 2: 0.87}, 5: {0: 0.26, 1: 0.05, 2: 0.69}, 6: {0: 0.22, 1: 0.05, 2: 0.73}, 9: {0: 0.28, 1: 0.11, 2: 0.61}}\n",
            "{4: {0: 0.05, 1: 0.1, 2: 0.06}, 8: {0: 0.04, 1: 0.03, 2: 0.03}, 7: {0: 0.06, 1: 0.05, 2: 0.02}, 2: {0: 0.27, 1: 0.14, 2: 0.03}, 3: {0: 0.1, 1: 0.09, 2: 0.17}, 1: {0: 0.04, 1: 0.04, 2: 0.24}, 0: {0: 0.16, 1: 0.37, 2: 0.32}, 5: {0: 0.11, 1: 0.05, 2: 0.05}, 6: {0: 0.12, 1: 0.07, 2: 0.07}, 9: {0: 0.05, 1: 0.06, 2: 0.02}}\n"
          ]
        }
      ]
    }
  ],
  "metadata": {
    "colab": {
      "provenance": []
    },
    "kernelspec": {
      "display_name": "Python 3",
      "name": "python3"
    },
    "language_info": {
      "name": "python"
    },
    "gpuClass": "standard"
  },
  "nbformat": 4,
  "nbformat_minor": 0
}